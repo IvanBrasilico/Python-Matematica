{
 "cells": [
  {
   "cell_type": "markdown",
   "metadata": {},
   "source": [
    "# NumPy\n",
    "\n",
    "Numpy é a principal biblioteca para computação científica em Python. Elas nos provê objetos **arrays multidimensionais** de elevada perfomance e também diversas ferramentas para trabalharmos com eles.\n",
    "\n",
    "## Arrays\n",
    "\n",
    "Um array numpy é uma grid de valores, todos do mesmo tipo e indexados por uma tupla de inteiros não-negativos. O número de dimensões é o rank do array; A forma do array é uma tupla de inteiros que nos traz o tamanho do array ao longo de cada dimensão.\n",
    "\n",
    "Podemos inicializar os arrays numpy através de listas Python aninhadas, e para acessar os seus elementos utilizamos os colchetes.\n",
    "\n",
    "Começamos importando a biblioteca numpy"
   ]
  },
  {
   "cell_type": "code",
   "execution_count": 2,
   "metadata": {},
   "outputs": [],
   "source": [
    "import numpy as np"
   ]
  },
  {
   "cell_type": "markdown",
   "metadata": {},
   "source": [
    "Começamos criando um array de rank 1"
   ]
  },
  {
   "cell_type": "code",
   "execution_count": 2,
   "metadata": {},
   "outputs": [
    {
     "name": "stdout",
     "output_type": "stream",
     "text": [
      "<class 'numpy.ndarray'>\n"
     ]
    }
   ],
   "source": [
    "a = np.array([1,2,3])\n",
    "print(type(a))"
   ]
  },
  {
   "cell_type": "markdown",
   "metadata": {},
   "source": [
    "Perceba que ao utilizarmos o método **type()** no array **a** ele nos retorna um objeto <class 'numpy.ndarray'>"
   ]
  },
  {
   "cell_type": "code",
   "execution_count": 4,
   "metadata": {},
   "outputs": [
    {
     "name": "stdout",
     "output_type": "stream",
     "text": [
      "(3,)\n"
     ]
    }
   ],
   "source": [
    "print(a.shape) # Nos retorna a forma do array, neste caso 1 linha e 3 colunas"
   ]
  },
  {
   "cell_type": "code",
   "execution_count": 6,
   "metadata": {},
   "outputs": [
    {
     "name": "stdout",
     "output_type": "stream",
     "text": [
      "1 2 3\n"
     ]
    }
   ],
   "source": [
    "print(a[0],a[1],a[2]) # Imprime cada um dos elementos do array"
   ]
  },
  {
   "cell_type": "code",
   "execution_count": 8,
   "metadata": {},
   "outputs": [
    {
     "name": "stdout",
     "output_type": "stream",
     "text": [
      "[1 7 3]\n"
     ]
    }
   ],
   "source": [
    "a[1] = 7 # Veja que podemos alterar os elementos do array, neste caso alteramos o segundo elemento\n",
    "print(a)"
   ]
  },
  {
   "cell_type": "code",
   "execution_count": 10,
   "metadata": {},
   "outputs": [],
   "source": [
    "# Criando um array de rank 2\n",
    "b = np.array([[1,2,3],[4,5,6]])"
   ]
  },
  {
   "cell_type": "code",
   "execution_count": 11,
   "metadata": {},
   "outputs": [
    {
     "name": "stdout",
     "output_type": "stream",
     "text": [
      "(2, 3)\n"
     ]
    }
   ],
   "source": [
    "print(b.shape) # Nos retorna a forma do array, neste caso 2 linhas e 3 colunas"
   ]
  },
  {
   "cell_type": "code",
   "execution_count": 15,
   "metadata": {},
   "outputs": [
    {
     "name": "stdout",
     "output_type": "stream",
     "text": [
      "1 5 6\n"
     ]
    }
   ],
   "source": [
    "print(b[0,0], b[1,1], b[1,2]) # Imprime elementos determinados por nós"
   ]
  },
  {
   "cell_type": "markdown",
   "metadata": {},
   "source": [
    "Numpy também nos traz diversas funções para criarmos arrays"
   ]
  },
  {
   "cell_type": "code",
   "execution_count": 17,
   "metadata": {},
   "outputs": [
    {
     "name": "stdout",
     "output_type": "stream",
     "text": [
      "[[0. 0.]\n",
      " [0. 0.]]\n"
     ]
    }
   ],
   "source": [
    "c = np.zeros((2,2)) # Cria um array somente de zeros\n",
    "print(c) # Imprime o array"
   ]
  },
  {
   "cell_type": "code",
   "execution_count": 20,
   "metadata": {},
   "outputs": [
    {
     "name": "stdout",
     "output_type": "stream",
     "text": [
      "[[1.]\n",
      " [1.]]\n"
     ]
    }
   ],
   "source": [
    "d = np.ones((2,1)) # Cria um array de número 1\n",
    "print(d)"
   ]
  },
  {
   "cell_type": "code",
   "execution_count": 22,
   "metadata": {},
   "outputs": [
    {
     "name": "stdout",
     "output_type": "stream",
     "text": [
      "[[8 8 8]\n",
      " [8 8 8]]\n"
     ]
    }
   ],
   "source": [
    "e = np.full((2,3),8) # Cria um array constante\n",
    "print(e)"
   ]
  },
  {
   "cell_type": "code",
   "execution_count": 24,
   "metadata": {},
   "outputs": [
    {
     "name": "stdout",
     "output_type": "stream",
     "text": [
      "[[1. 0. 0.]\n",
      " [0. 1. 0.]\n",
      " [0. 0. 1.]]\n"
     ]
    }
   ],
   "source": [
    "f = np.eye(3) # Cria uma matriz identidade 3x3\n",
    "print(f)"
   ]
  },
  {
   "cell_type": "code",
   "execution_count": 3,
   "metadata": {},
   "outputs": [
    {
     "name": "stdout",
     "output_type": "stream",
     "text": [
      "[[0.16703001 0.94829856]\n",
      " [0.92805719 0.01429271]]\n"
     ]
    }
   ],
   "source": [
    "g = np.random.random((2,2)) # Cria um array preenchido com números aleatórios\n",
    "print(g)"
   ]
  },
  {
   "cell_type": "markdown",
   "metadata": {},
   "source": [
    "## Indexando arrays\n",
    "\n",
    "Numpy nos oferece diversas maneiras de indexarmos os arrays.\n",
    "\n",
    "**Slicing:** Similar às listas de Python, os arrays de NumPy podem ser 'fatiados'. Uma vez que arrays podem ser multidimensionais, é necessário que se especifique uma 'fatia' para cada dimensão do array"
   ]
  },
  {
   "cell_type": "code",
   "execution_count": 41,
   "metadata": {},
   "outputs": [
    {
     "name": "stdout",
     "output_type": "stream",
     "text": [
      "(3, 4)\n",
      "\n",
      "[[3 4]\n",
      " [7 8]]\n"
     ]
    }
   ],
   "source": [
    "import numpy as np\n",
    "\n",
    "# Começamos criando o array de rank 2 com forma (3,4)\n",
    "# [[ 1  3  4  6]\n",
    "#  [ 2  7  8  11]\n",
    "#  [ 12 9 10 5]]\n",
    "a = np.array([[1,3,4,6],[2,7,8,11],[12,9,10,5]])\n",
    "print(a.shape) # Imprime a forma do array a\n",
    "print()\n",
    "\n",
    "# Vamos utilizar a técnica de slicing para obtermos um subarray de apenas as duas primeiras linhas -> :2\n",
    "# E colunas 1 e 2 -> 1:3\n",
    "# b se torna o seguinte array de forma (2,2)\n",
    "# [[3 4]\n",
    "#  [7 8]]\n",
    "b = a[:2, 1:3]\n",
    "print(b)"
   ]
  },
  {
   "cell_type": "code",
   "execution_count": 42,
   "metadata": {},
   "outputs": [
    {
     "name": "stdout",
     "output_type": "stream",
     "text": [
      "3\n",
      "13\n"
     ]
    }
   ],
   "source": [
    "# Uma 'fatia' de um array é uma visualização dos mesmos dados, então modificando ela, modificará o array original\n",
    "print(a[0,1])\n",
    "b[0,0] = 13\n",
    "print(a[0,1]) # Observe que nosso array a é alterado ao alterarmos o valor de b"
   ]
  },
  {
   "cell_type": "markdown",
   "metadata": {},
   "source": [
    "Nós também podemos misturar a **indexação de inteiros** com a indexação **Slicing**. Entretanto, fazer dessa maneira nos produzirá um array de rank menor do que a versão original."
   ]
  },
  {
   "cell_type": "code",
   "execution_count": 52,
   "metadata": {},
   "outputs": [
    {
     "name": "stdout",
     "output_type": "stream",
     "text": [
      "[[12 11 10  9]\n",
      " [ 8  7  6  5]\n",
      " [ 4  3  2  1]]\n",
      "\n",
      "[8 7 6 5] (4,)\n",
      "[[8 7 6 5]] (1, 4)\n",
      "\n",
      "[11  7  3] (3,)\n",
      "[[11]\n",
      " [ 7]\n",
      " [ 3]] (3, 1)\n"
     ]
    }
   ],
   "source": [
    "import numpy as np\n",
    "\n",
    "# Começamos criando o array de rank 2 com forma (3,4)\n",
    "# [[ 12  11 10  9]\n",
    "#  [ 8   7  6   5]\n",
    "#  [ 4   3   2  1]]\n",
    "\n",
    "a = np.array([[12,11,10,9],[8,7,6,5],[4,3,2,1]])\n",
    "print(a) \n",
    "print()\n",
    "\n",
    "# Duas maneiras de acessarmos os dados da linha do meio do array\n",
    "# Misturando indexação de inteiros com a indexação Slicing produzirá um array de rank menor\n",
    "# Se usarmos apenas Slicing, produzirá produzirá um array do mesmo rank do original\n",
    "\n",
    "linha_l1 = a[1, :] # Visualização Rank 1 da segunda linha do array a\n",
    "linha_l2 = a[1:2, :] # Visualização Rank 2 da segunda linha do array a\n",
    "print(linha_l1, linha_l1.shape) # Imprime [8 7 6 5] (4,)\n",
    "print(linha_l2, linha_l2.shape) # Imprime [[8 7 6 5]] (1, 4)\n",
    "print()\n",
    "\n",
    "# A mesma distinção pode se aplicar quando acessarmos as colunas do array\n",
    "col_c1 = a[:, 1]\n",
    "col_c2 = a[:, 1:2]\n",
    "print(col_c1, col_c1.shape)\n",
    "print(col_c2, col_c2.shape)"
   ]
  },
  {
   "cell_type": "markdown",
   "metadata": {},
   "source": [
    "**Indexação de arrays por inteiros:** Quando nós indexamos os arrays numpy utilizando o método de **Slicing**, o array resultante será um subarray do original. Em contraste, indexação de array por inteiros nos permite construir arrays arbitrários utilizando dados de outros arrays. Veja o exemplo"
   ]
  },
  {
   "cell_type": "code",
   "execution_count": 54,
   "metadata": {},
   "outputs": [
    {
     "name": "stdout",
     "output_type": "stream",
     "text": [
      "[1 4 5]\n",
      "[1 4 5]\n",
      "[2 2]\n",
      "[2 2]\n"
     ]
    }
   ],
   "source": [
    "import numpy as np\n",
    "\n",
    "a = np.array([[1,2], [3, 4], [5, 6]])\n",
    "\n",
    "# Um exemplo de indexação de arrays por inteiros.\n",
    "# O array retornado terá a forma (3,) \n",
    "print(a[[0, 1, 2], [0, 1, 0]])  # Imprime \"[1 4 5]\"\n",
    "\n",
    "# O exemplo acima é equivalente a esse\n",
    "print(np.array([a[0, 0], a[1, 1], a[2, 0]]))  # Imprime \"[1 4 5]\"\n",
    "\n",
    "# Quando utilizamos a indexação de arrays por inteiros, podemos reutilizar o mesmo elemento do array principal\n",
    "print(a[[0, 0], [1, 1]])  # Imprime \"[2 2]\"\n",
    "\n",
    "# Equivalente ao exemplo acima\n",
    "print(np.array([a[0, 1], a[0, 1]]))  # Imprime \"[2 2]\""
   ]
  },
  {
   "cell_type": "markdown",
   "metadata": {},
   "source": [
    "Uma técnica muito interessante em relação à **indexação de arrays por inteiros** é a seleção ou mutação de um elemento para cada linha da matriz"
   ]
  },
  {
   "cell_type": "code",
   "execution_count": 57,
   "metadata": {},
   "outputs": [
    {
     "name": "stdout",
     "output_type": "stream",
     "text": [
      "[[ 1  2  3]\n",
      " [ 4  5  6]\n",
      " [ 7  8  9]\n",
      " [10 11 12]]\n",
      "\n",
      "[ 1  6  7 11]\n",
      "\n",
      "[[11  2  3]\n",
      " [ 4  5 16]\n",
      " [17  8  9]\n",
      " [10 21 12]]\n"
     ]
    }
   ],
   "source": [
    "import numpy as np\n",
    "\n",
    "# Começamos por criar um array no qual selecionaremos elementos\n",
    "a = np.array([[1,2,3], [4,5,6], [7,8,9], [10, 11, 12]])\n",
    "\n",
    "print(a)  # Imprime \"array([[ 1,  2,  3],\n",
    "print()   #                [ 4,  5,  6],\n",
    "          #                [ 7,  8,  9],\n",
    "          #                [10, 11, 12]])\"\n",
    "\n",
    "\n",
    "# Criamos um array de índices\n",
    "b = np.array([0, 2, 0, 1])\n",
    "\n",
    "# Selecionamos um elemento de cada linha de a utilizando os índices de b\n",
    "print(a[np.arange(4), b])  # Imprime \"[ 1  6  7 11]\"\n",
    "print()\n",
    "\n",
    "# Mutamos um elemento para cada linha de a utilizando os índices de b\n",
    "a[np.arange(4), b] += 10\n",
    "\n",
    "print(a)  # Imprime \"array([[11,  2,  3],\n",
    "          #                [ 4,  5, 16],\n",
    "          #                [17,  8,  9],\n",
    "          #                [10, 21, 12]])"
   ]
  },
  {
   "cell_type": "markdown",
   "metadata": {},
   "source": [
    "**Indexação de arrays booleana:** Indexação de arrays booleana nos permite escolher elementos arbitrários de um array. Frequentemente esse tipo de indexação é utilizada para selecionar os elementos de um array que satisfaça determinada condição. Veja um exemplo"
   ]
  },
  {
   "cell_type": "code",
   "execution_count": 60,
   "metadata": {},
   "outputs": [
    {
     "name": "stdout",
     "output_type": "stream",
     "text": [
      "[[False False]\n",
      " [ True  True]\n",
      " [ True  True]]\n",
      "\n",
      "[3 4 5 6]\n",
      "\n",
      "[3 4 5 6]\n"
     ]
    }
   ],
   "source": [
    "import numpy as np\n",
    "\n",
    "a = np.array([[1,2], [3, 4], [5, 6]])\n",
    "\n",
    "bool_idx = (a > 2)   # Busca os elementos de a que são maiores que 2\n",
    "                     # nos retorna um array numpy de booleanos da mesma forma de a\n",
    "                     # onde cada espaço de bool_idx nos diz se aquele elemento de a é maior do que 2\n",
    "\n",
    "print(bool_idx)      # Imprime \"[[False False]\n",
    "print()              #          [ True  True]\n",
    "                     #          [ True  True]]\"\n",
    "\n",
    "# Utilizamos a indexação de arrays booelana para construir um array de rank 1\n",
    "# que consiste dos elementos correspondentes ao valores True de bool_idx\n",
    "\n",
    "print(a[bool_idx])  # Imprime \"[3 4 5 6]\"\n",
    "print()\n",
    "\n",
    "# Nós podemos fazer tudo que foi feito acima em um única e concisa declaração\n",
    "print(a[a > 2])     # Imprime \"[3 4 5 6]\""
   ]
  },
  {
   "cell_type": "markdown",
   "metadata": {},
   "source": [
    "## Tipos de Dados\n",
    "\n",
    "Todo array numpy é uma grid de elementos do mesmo tipo. Numpy provê um grande conjunto de tipos de dados numéricos que nós podemos utilizar para construir arrays. Numpy tenta adivinhar o tipo de dado quando criamos o array, porém funções que constroem arrays normalmente também incluem um argumento opcional que define explicitamente o tipo de dado. Veja um exemplo"
   ]
  },
  {
   "cell_type": "code",
   "execution_count": 62,
   "metadata": {},
   "outputs": [
    {
     "name": "stdout",
     "output_type": "stream",
     "text": [
      "int64\n",
      "float64\n",
      "int64\n"
     ]
    }
   ],
   "source": [
    "import numpy as np\n",
    "\n",
    "x = np.array([1, 2])   # Deixando numpy escolher o tipo de dado\n",
    "print(x.dtype)         # Imprime \"int64\"\n",
    "\n",
    "x = np.array([1.0, 2.0])   # Deixando numpy escolher o tipo de dado\n",
    "print(x.dtype)             # Imprime \"float64\"\n",
    "\n",
    "x = np.array([1, 2], dtype=np.int64)   # Força um tipo de dado particular\n",
    "print(x.dtype)                         # Imprime \"int64\""
   ]
  },
  {
   "cell_type": "markdown",
   "metadata": {},
   "source": [
    "## Matemática com arrays\n",
    "\n",
    "Funções matemáticas básicas operam em cada elemento do array e estão disponíveis como sobrecarga de operador e como funções no módulo numpy"
   ]
  },
  {
   "cell_type": "code",
   "execution_count": 65,
   "metadata": {},
   "outputs": [
    {
     "name": "stdout",
     "output_type": "stream",
     "text": [
      "[[ 6.  8.]\n",
      " [10. 12.]]\n",
      "[[ 6.  8.]\n",
      " [10. 12.]]\n",
      "\n",
      "[[-4. -4.]\n",
      " [-4. -4.]]\n",
      "[[-4. -4.]\n",
      " [-4. -4.]]\n",
      "\n",
      "[[ 5. 12.]\n",
      " [21. 32.]]\n",
      "[[ 5. 12.]\n",
      " [21. 32.]]\n",
      "\n",
      "[[0.2        0.33333333]\n",
      " [0.42857143 0.5       ]]\n",
      "[[0.2        0.33333333]\n",
      " [0.42857143 0.5       ]]\n",
      "\n",
      "[[1.         1.41421356]\n",
      " [1.73205081 2.        ]]\n"
     ]
    }
   ],
   "source": [
    "import numpy as np\n",
    "\n",
    "x = np.array([[1,2],[3,4]], dtype=np.float64)\n",
    "y = np.array([[5,6],[7,8]], dtype=np.float64)\n",
    "\n",
    "# Soma de cada elemento; ambas produzem o array:\n",
    "# [[ 6.0  8.0]\n",
    "#  [10.0 12.0]]\n",
    "print(x + y)\n",
    "print(np.add(x, y))\n",
    "print()\n",
    "\n",
    "# Diferença de cada elemento; ambas produzem o array:\n",
    "# [[-4.0 -4.0]\n",
    "#  [-4.0 -4.0]]\n",
    "print(x - y)\n",
    "print(np.subtract(x, y))\n",
    "print()\n",
    "\n",
    "# Produto de cada elemento; ambas produzem o array:\n",
    "# [[ 5.0 12.0]\n",
    "#  [21.0 32.0]]\n",
    "print(x * y)\n",
    "print(np.multiply(x, y))\n",
    "print()\n",
    "\n",
    "# Divisão de cada elemento; ambas produzem o array:\n",
    "# [[ 0.2         0.33333333]\n",
    "#  [ 0.42857143  0.5       ]]\n",
    "print(x / y)\n",
    "print(np.divide(x, y))\n",
    "print()\n",
    "\n",
    "# Raiz quadrada de cada elemento; ambas produzem o array:\n",
    "# [[ 1.          1.41421356]\n",
    "#  [ 1.73205081  2.        ]]\n",
    "print(np.sqrt(x))"
   ]
  },
  {
   "cell_type": "markdown",
   "metadata": {},
   "source": [
    "É importante destacarmos que diferente do MATLAB, * é uma multiplicação de cada elemento, não uma multiplicação de matriz. Em vez disso, usamos a função **dot** para computarmos o produto escalar dos vetores por uma matriz, e para multiplicarmos matrizes. **dot** está disponível como uma função no módulo numpy e como uma método instância dos objetos array."
   ]
  },
  {
   "cell_type": "code",
   "execution_count": 68,
   "metadata": {},
   "outputs": [
    {
     "name": "stdout",
     "output_type": "stream",
     "text": [
      "219\n",
      "219\n",
      "\n",
      "[29 67]\n",
      "[29 67]\n",
      "\n",
      "[[19 22]\n",
      " [43 50]]\n",
      "[[19 22]\n",
      " [43 50]]\n"
     ]
    }
   ],
   "source": [
    "import numpy as np\n",
    "\n",
    "x = np.array([[1,2],[3,4]])\n",
    "y = np.array([[5,6],[7,8]])\n",
    "\n",
    "v = np.array([9,10])\n",
    "w = np.array([11, 12])\n",
    "\n",
    "# Produto escalar dos vetores; ambos produzem 219\n",
    "print(v.dot(w))\n",
    "print(np.dot(v, w))\n",
    "print()\n",
    "\n",
    "# Produto matriz / vetor; ambos produzem o array [29 67] de rank 1\n",
    "print(x.dot(v))\n",
    "print(np.dot(x, v))\n",
    "print()\n",
    "\n",
    "# Produto matriz / matriz; ambos produzem o array de rank 2\n",
    "# [[19 22]\n",
    "#  [43 50]]\n",
    "print(x.dot(y))\n",
    "print(np.dot(x, y))"
   ]
  },
  {
   "cell_type": "markdown",
   "metadata": {},
   "source": [
    "Numpy nos provê diversas funções úteis para executarmos computações em arrays; uma das mais úteis é **sum**:"
   ]
  },
  {
   "cell_type": "code",
   "execution_count": 69,
   "metadata": {},
   "outputs": [
    {
     "name": "stdout",
     "output_type": "stream",
     "text": [
      "10\n",
      "[4 6]\n",
      "[3 7]\n"
     ]
    }
   ],
   "source": [
    "import numpy as np\n",
    "\n",
    "x = np.array([[1,2],[3,4]])\n",
    "\n",
    "print(np.sum(x))  # Computa a soma de todos os elementos; Imprime \"10\"\n",
    "print(np.sum(x, axis=0))  # Computa a soma de cada coluna; Imprime \"[4 6]\"\n",
    "print(np.sum(x, axis=1))  # Computa a soma de cada linha; Imprime \"[3 7]\""
   ]
  },
  {
   "cell_type": "markdown",
   "metadata": {},
   "source": [
    "Além de computar funções matemáticas utilizando arrays, nós frequentemente necessitamento alterar a forma ou então manipular os dados nos arrays. O exemplo mais simples desse tipo de operação é a transposição de uma matriz; para transpor uma matriz, simplesmente utilizamos o atributo **T** de um objeto array"
   ]
  },
  {
   "cell_type": "code",
   "execution_count": 71,
   "metadata": {},
   "outputs": [
    {
     "name": "stdout",
     "output_type": "stream",
     "text": [
      "[[1 2]\n",
      " [3 4]]\n",
      "[[1 3]\n",
      " [2 4]]\n",
      "\n",
      "[1 2 3]\n",
      "[1 2 3]\n"
     ]
    }
   ],
   "source": [
    "import numpy as np\n",
    "\n",
    "x = np.array([[1,2], [3,4]])\n",
    "print(x)    # Imprime \"[[1 2]\n",
    "            #          [3 4]]\"\n",
    "print(x.T)  # Imprime \"[[1 3]\n",
    "            #          [2 4]]\"\n",
    "print()\n",
    "# Perceba que ao transpor um array de rank 1 não ocorre nada\n",
    "v = np.array([1,2,3])\n",
    "print(v)    # Imprime \"[1 2 3]\"\n",
    "print(v.T)  # Imprime \"[1 2 3]\""
   ]
  },
  {
   "cell_type": "markdown",
   "metadata": {},
   "source": [
    "## Broadcasting\n",
    "\n",
    "Broadcasting é um mecanismo poderoso que permite numpy trabalhar com arrays de diferentes formas quando estiver realizando operações aritméticas. Frequentemente nós temos um array menor e um array maior e nós desejamos usar o array menor múltiplas vezes para realizarmos algumas operações no array maior.\n",
    "\n",
    "Por exemplo, vamos supor que nós desejamos adicionar um vetor constante para cada linha da matriz. Podemos fazer da seguinte maneira"
   ]
  },
  {
   "cell_type": "code",
   "execution_count": 73,
   "metadata": {},
   "outputs": [
    {
     "name": "stdout",
     "output_type": "stream",
     "text": [
      "[[ 1  2  3]\n",
      " [ 4  5  6]\n",
      " [ 7  8  9]\n",
      " [10 11 12]]\n",
      "\n",
      "[[ 2  2  4]\n",
      " [ 5  5  7]\n",
      " [ 8  8 10]\n",
      " [11 11 13]]\n"
     ]
    }
   ],
   "source": [
    "import numpy as np\n",
    "\n",
    "# Nós vamos adicionar o vetor v para cada linha da matriz x,\n",
    "# guardando o resultado na matriz y\n",
    "x = np.array([[1,2,3], [4,5,6], [7,8,9], [10, 11, 12]])\n",
    "print(x)\n",
    "print()\n",
    "v = np.array([1, 0, 1])\n",
    "y = np.empty_like(x)   # Cria uma matriz vazia da mesma forma de x\n",
    "\n",
    "# Adiciona o vetorv para cada linha da matriz x com um loop explícito\n",
    "for i in range(4):\n",
    "    y[i, :] = x[i, :] + v\n",
    "\n",
    "# Agora y ficará:\n",
    "\n",
    "# [[ 2  2  4]\n",
    "#  [ 5  5  7]\n",
    "#  [ 8  8 10]\n",
    "#  [11 11 13]]\n",
    "print(y)"
   ]
  },
  {
   "cell_type": "markdown",
   "metadata": {},
   "source": [
    "Veja que funciona, entretanto quando a matriz **x** é muito grande, computar um loop explícito em Python pode se tornar um processo lento. \n",
    "\n",
    "Perceba que adicionar o vetor **v** para cada linha da matriz x é equivalente a formar uma matriz vv empilhando múltiplas cópias de v verticalmente e então executando a soma de cada elemento de x e vv, nós podemos implementar essa abordagem da seguinte forma"
   ]
  },
  {
   "cell_type": "code",
   "execution_count": 75,
   "metadata": {},
   "outputs": [
    {
     "name": "stdout",
     "output_type": "stream",
     "text": [
      "[[1 0 1]\n",
      " [1 0 1]\n",
      " [1 0 1]\n",
      " [1 0 1]]\n",
      "\n",
      "[[ 2  2  4]\n",
      " [ 5  5  7]\n",
      " [ 8  8 10]\n",
      " [11 11 13]]\n"
     ]
    }
   ],
   "source": [
    "import numpy as np\n",
    "\n",
    "# Nós adicionaremos o vetor v para cada linha da matriz x\n",
    "# guardando o resultado na matriz y\n",
    "x = np.array([[1,2,3], [4,5,6], [7,8,9], [10, 11, 12]])\n",
    "v = np.array([1, 0, 1])\n",
    "vv = np.tile(v, (4, 1))   # Empilha 4 cópias do vetor v\n",
    "print(vv)                 # Imprime \"[[1 0 1]\n",
    "print()                   #          [1 0 1]\n",
    "                          #          [1 0 1]\n",
    "                          #          [1 0 1]]\"\n",
    "y = x + vv  # Adiciona cada elemento de x e vv\n",
    "print(y)  # Imprime \"[[ 2  2  4\n",
    "          #          [ 5  5  7]\n",
    "          #          [ 8  8 10]\n",
    "          #          [11 11 13]]\""
   ]
  },
  {
   "cell_type": "markdown",
   "metadata": {},
   "source": [
    "**Broadcasting** em numpy nos permite realizar essa computação sem a necessidade de criarmos múltiplas cópías de **v**. Considere essa versão, utilizando broadcasting"
   ]
  },
  {
   "cell_type": "code",
   "execution_count": 76,
   "metadata": {},
   "outputs": [
    {
     "name": "stdout",
     "output_type": "stream",
     "text": [
      "[[ 2  2  4]\n",
      " [ 5  5  7]\n",
      " [ 8  8 10]\n",
      " [11 11 13]]\n"
     ]
    }
   ],
   "source": [
    "import numpy as np\n",
    "\n",
    "# Nós iremos adicionar o vetor v para cada linha da matriz x,\n",
    "# guardando o resultado na matriz y\n",
    "x = np.array([[1,2,3], [4,5,6], [7,8,9], [10, 11, 12]])\n",
    "v = np.array([1, 0, 1])\n",
    "y = x + v  # Adiciona v para cada linha de x usando broadcasting\n",
    "print(y)  # Imprime \"[[ 2  2  4]\n",
    "          #          [ 5  5  7]\n",
    "          #          [ 8  8 10]\n",
    "          #          [11 11 13]]\""
   ]
  },
  {
   "cell_type": "markdown",
   "metadata": {},
   "source": [
    "A linha **y = x + v** funciona apesar de x ter a forma **(4, 3)** e v ter a forma **(3,)**, isso por causa do broadcasting; essa linha funciona como se v tivesse a forma **(4,3)**, onde cada linha é uma cópia de v e a soma é realizada para cada elemento.\n",
    "\n",
    "Broadcasting dois arrays juntos segue as seguintes regras:\n",
    "\n",
    "1. Se os arrays não tiverem o mesmo rank, pré-acrescenta-se a forma do array de rank menor com 1s até que ambas as formas tenham a mesma extensão\n",
    "2. Os dois arrays são ditos compatíveis em uma dimensão se eles tiverem o mesmo tamanho na dimensão, ou se algum dos arrays tiver tamanho 1 naquela dimensão\n",
    "3. O broadcast pode ser feito nos arrays juntos se eles forem compatíveis em todas as dimensões\n",
    "4. Depois do broadcast, cada array se comporta como se ele tivesse sua forma igual ao máximo de formas de cada elemento dos dois arrays de input\n",
    "5. Em cada dimensão onde um array tem o tamanho 1 e o outro array tem o tamanho maior do que 1, o primeiro array se comporta como se ele tivesse sido copiado juntamente àquela dimensão\n",
    "\n",
    "Veja algumas aplicações do broadcasting"
   ]
  },
  {
   "cell_type": "code",
   "execution_count": 78,
   "metadata": {},
   "outputs": [
    {
     "name": "stdout",
     "output_type": "stream",
     "text": [
      "[[ 4  5]\n",
      " [ 8 10]\n",
      " [12 15]]\n",
      "\n",
      "[[2 4 6]\n",
      " [5 7 9]]\n",
      "\n",
      "[[ 5  6  7]\n",
      " [ 9 10 11]]\n",
      "\n",
      "[[ 5  6  7]\n",
      " [ 9 10 11]]\n",
      "\n",
      "[[ 2  4  6]\n",
      " [ 8 10 12]]\n"
     ]
    }
   ],
   "source": [
    "import numpy as np\n",
    "\n",
    "# Computa o produto exterior dos vetores\n",
    "v = np.array([1,2,3])  # v tem a forma (3,)\n",
    "w = np.array([4,5])    # w tem a forma (2,)\n",
    "# Para computarmos o produto exterior, primeiro alteramos a forma de v para ser uma coluna\n",
    "# vetor de forma (3, 1); nós então podemos fazer o broadcast em w para produzir\n",
    "# um output de forma (3, 2), no qual é o produto exterior de v e w:\n",
    "# [[ 4  5]\n",
    "#  [ 8 10]\n",
    "#  [12 15]]\n",
    "print(np.reshape(v, (3, 1)) * w)\n",
    "print()\n",
    "# Adiciona um vetor para cada linha da matriz\n",
    "x = np.array([[1,2,3], [4,5,6]])\n",
    "# x tem a forma (2, 3) e v tem a forma (3,) então o broadcast fica (2, 3),\n",
    "# retornando a seguinte matriz:\n",
    "# [[2 4 6]\n",
    "#  [5 7 9]]\n",
    "print(x + v)\n",
    "print()\n",
    "# Adiciona um vetor para cada coluna da matriz\n",
    "# x tem a forma (2, 3) e w tem a forma (2,).\n",
    "# Se nós transpormos x então ele terá a forma (3,2) e pode ser feito o broadcast\n",
    "# em w para produzir o resultado de forma (3,2), transpondo esse resultado\n",
    "# produz a forma final de (2,3) no qual é a matriz x com\n",
    "# o vetor w adicionado para cada coluna, resultando a seguinte matriz:\n",
    "# [[ 5  6  7]\n",
    "#  [ 9 10 11]]\n",
    "print((x.T + w).T)\n",
    "print()\n",
    "# Outra solução é alterar a forma de w para ser um vetor de colunas de forma (2,1)\n",
    "# Nós então podemos fazer o broadcast dele diretamente contra x para o produzir o mesmo output\n",
    "print(x + np.reshape(w, (2, 1)))\n",
    "print()\n",
    "# Multiplicar uma matriz por uma constante:\n",
    "# x tem a forma (2,3). Numpy trata escalares como arrays de forma ();\n",
    "# estes podem ser feito o broadcast juntos para formar (2,3), produzindo o seguinte array:\n",
    "# [[ 2  4  6]\n",
    "#  [ 8 10 12]]\n",
    "print(x * 2)"
   ]
  }
 ],
 "metadata": {
  "kernelspec": {
   "display_name": "Python 3",
   "language": "python",
   "name": "python3"
  },
  "language_info": {
   "codemirror_mode": {
    "name": "ipython",
    "version": 3
   },
   "file_extension": ".py",
   "mimetype": "text/x-python",
   "name": "python",
   "nbconvert_exporter": "python",
   "pygments_lexer": "ipython3",
   "version": "3.7.1"
  }
 },
 "nbformat": 4,
 "nbformat_minor": 2
}
