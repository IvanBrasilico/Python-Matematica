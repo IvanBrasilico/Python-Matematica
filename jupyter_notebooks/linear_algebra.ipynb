{
 "cells": [
  {
   "cell_type": "markdown",
   "metadata": {},
   "source": [
    "# Álgebra Linear com SymPy\n",
    "\n",
    "Um vetor $\\vec{v} \\in \\mathbb{R}$ é uma n-tupla de números reais. Por exemplo, considere um vetor com três componentes:\n",
    "\n",
    "\\begin{equation}\\vec{v} = (v1, v2, v3) \\in (\\mathbb{R}, \\mathbb{R}, \\mathbb{R}) \\equiv \\mathbb{R}³\\end{equation}\n",
    "\n",
    "Uma matriz $A \\in \\mathbb{R}^{m \\times n}$ é um array retangular de números reais com m linhas e n colunas. Um vetor é uma matriz especial. Nós podemos pensar o vetor como $\\vec{v} \\in \\mathbb{R}^n$\n",
    "\n",
    "Ou um vetor de linhas: $(1 \\times n ~ matrix)$\n",
    "\n",
    "Ou um vetor de colunas: $(n \\times 1 ~ matrix)$\n",
    "\n",
    "Por causa dessa equivalência, não há um objeto vetor especial em SymPy e objetos de Matriz são utilizados para vetores também."
   ]
  },
  {
   "cell_type": "code",
   "execution_count": 3,
   "metadata": {},
   "outputs": [],
   "source": [
    "from sympy import *\n",
    "init_printing()"
   ]
  },
  {
   "cell_type": "code",
   "execution_count": 14,
   "metadata": {},
   "outputs": [],
   "source": [
    "u = Matrix([4,5,6]) # Define um vetor de linhas (1x3)"
   ]
  },
  {
   "cell_type": "code",
   "execution_count": 13,
   "metadata": {},
   "outputs": [
    {
     "data": {
      "text/latex": [
       "$$\\left[\\begin{matrix}4\\\\5\\\\6\\end{matrix}\\right]$$"
      ],
      "text/plain": [
       "⎡4⎤\n",
       "⎢ ⎥\n",
       "⎢5⎥\n",
       "⎢ ⎥\n",
       "⎣6⎦"
      ]
     },
     "execution_count": 13,
     "metadata": {},
     "output_type": "execute_result"
    }
   ],
   "source": [
    "u"
   ]
  },
  {
   "cell_type": "code",
   "execution_count": 6,
   "metadata": {},
   "outputs": [],
   "source": [
    "v = Matrix([[7],\n",
    "            [8],\n",
    "            [9]]) # Define um vetor de colunas (3x1)"
   ]
  },
  {
   "cell_type": "code",
   "execution_count": 12,
   "metadata": {},
   "outputs": [
    {
     "data": {
      "text/latex": [
       "$$\\left[\\begin{matrix}7\\\\8\\\\9\\end{matrix}\\right]$$"
      ],
      "text/plain": [
       "⎡7⎤\n",
       "⎢ ⎥\n",
       "⎢8⎥\n",
       "⎢ ⎥\n",
       "⎣9⎦"
      ]
     },
     "execution_count": 12,
     "metadata": {},
     "output_type": "execute_result"
    }
   ],
   "source": [
    "v"
   ]
  },
  {
   "cell_type": "code",
   "execution_count": 8,
   "metadata": {},
   "outputs": [
    {
     "data": {
      "text/latex": [
       "$$\\left[\\begin{matrix}7 & 8 & 9\\end{matrix}\\right]$$"
      ],
      "text/plain": [
       "[7  8  9]"
      ]
     },
     "execution_count": 8,
     "metadata": {},
     "output_type": "execute_result"
    }
   ],
   "source": [
    "v.T # Faz a transposição do vetor v"
   ]
  },
  {
   "cell_type": "code",
   "execution_count": 9,
   "metadata": {},
   "outputs": [
    {
     "data": {
      "image/png": "[encoded data removed]",
      "text/latex": [
       "$$4$$"
      ],
      "text/plain": [
       "4"
      ]
     },
     "execution_count": 9,
     "metadata": {},
     "output_type": "execute_result"
    }
   ],
   "source": [
    "u[0] # Mostra o primeiro componente do vetor u (índices começam por 0)"
   ]
  },
  {
   "cell_type": "code",
   "execution_count": 10,
   "metadata": {},
   "outputs": [
    {
     "data": {
      "image/png": "[encoded data removed]",
      "text/latex": [
       "$$\\sqrt{77}$$"
      ],
      "text/plain": [
       "√77"
      ]
     },
     "execution_count": 10,
     "metadata": {},
     "output_type": "execute_result"
    }
   ],
   "source": [
    "u.norm() # Mostra o comprimento do vetor"
   ]
  },
  {
   "cell_type": "code",
   "execution_count": 11,
   "metadata": {},
   "outputs": [
    {
     "name": "stdout",
     "output_type": "stream",
     "text": [
      "Matrix([[4*sqrt(77)/77], [5*sqrt(77)/77], [6*sqrt(77)/77]])\n"
     ]
    },
    {
     "data": {
      "image/png": "[encoded data removed]",
      "text/latex": [
       "$$1$$"
      ],
      "text/plain": [
       "1"
      ]
     },
     "execution_count": 11,
     "metadata": {},
     "output_type": "execute_result"
    }
   ],
   "source": [
    "uhat = u/u.norm() # vetor de comprimento de unidade, mesma direção de u\n",
    "print(uhat)\n",
    "uhat.norm()"
   ]
  },
  {
   "cell_type": "markdown",
   "metadata": {},
   "source": [
    "O produto escalar dos 3 vetores $\\vec{u}$ e $\\vec{v}$ pode ser definido como:\n",
    "\n",
    "\\begin{equation}\\vec{u} \\cdot \\vec{v} \\equiv u_x v_x + u_y v_y + u_z v_z \\equiv ||{\\vec{u}}|| ~ ||{\\vec{v}}|| \\cos (\\varphi) \\in \\mathbb{R}\\end{equation}\n",
    "\n",
    "onde $\\varphi$ é o ângulo entre os vetores $\\vec{u}$ e $\\vec{v}$"
   ]
  },
  {
   "cell_type": "code",
   "execution_count": 12,
   "metadata": {},
   "outputs": [
    {
     "data": {
      "image/png": "[encoded data removed]",
      "text/latex": [
       "$$13$$"
      ],
      "text/plain": [
       "13"
      ]
     },
     "execution_count": 12,
     "metadata": {},
     "output_type": "execute_result"
    }
   ],
   "source": [
    "u = Matrix([4,5,6])\n",
    "v = Matrix([-1,1,2])\n",
    "u.dot(v)"
   ]
  },
  {
   "cell_type": "markdown",
   "metadata": {},
   "source": [
    "Para calcular o ângulo entre dois vetores, nós transformamos a equação abaixo para:\n",
    "\n",
    "\\begin{equation} \\cos(\\varphi) = \\frac{\\vec{u} \\cdot \\vec{v}}{||\\vec{u}|| ~ ||\\vec{v}||}\\end{equation}"
   ]
  },
  {
   "cell_type": "code",
   "execution_count": 13,
   "metadata": {},
   "outputs": [
    {
     "data": {
      "image/png": "[encoded data removed]",
      "text/latex": [
       "$$0.921263115666387$$"
      ],
      "text/plain": [
       "0.921263115666387"
      ]
     },
     "execution_count": 13,
     "metadata": {},
     "output_type": "execute_result"
    }
   ],
   "source": [
    "acos(u.dot(v)/(u.norm()*v.norm())).evalf()"
   ]
  },
  {
   "cell_type": "markdown",
   "metadata": {},
   "source": [
    "O produto escalar é uma operação comutativa\n",
    "\n",
    "\\begin{equation} \\vec{u} \\cdot \\vec{v} = \\vec{v} \\cdot \\vec{u} \\end{equation}"
   ]
  },
  {
   "cell_type": "code",
   "execution_count": 14,
   "metadata": {},
   "outputs": [
    {
     "data": {
      "text/plain": [
       "True"
      ]
     },
     "execution_count": 14,
     "metadata": {},
     "output_type": "execute_result"
    }
   ],
   "source": [
    "u.dot(v) == v.dot(u)"
   ]
  },
  {
   "cell_type": "markdown",
   "metadata": {},
   "source": [
    "O produto escalar também é utilizado para calcular projeções. \n",
    "\n",
    "Assumindo que você tenha dois vetores $\\vec{v}$ e $\\vec{n}$ e você deseja encontrar o componente de $\\vec{v}$ que aponta para a direção $\\vec{n}$\n",
    "\n",
    "\\begin{equation} \\prod_\\vec{n}(\\vec{v}) \\equiv \\frac{\\vec{v} \\cdot \\vec{n}}{||\\vec{n}||^2}\\vec{n} \\end{equation}\n",
    "\n",
    "Em SymPy, isso se traduziria como:"
   ]
  },
  {
   "cell_type": "code",
   "execution_count": 15,
   "metadata": {},
   "outputs": [
    {
     "data": {
      "text/latex": [
       "$$\\left[\\begin{matrix}5\\\\5\\\\5\\end{matrix}\\right]$$"
      ],
      "text/plain": [
       "⎡5⎤\n",
       "⎢ ⎥\n",
       "⎢5⎥\n",
       "⎢ ⎥\n",
       "⎣5⎦"
      ]
     },
     "execution_count": 15,
     "metadata": {},
     "output_type": "execute_result"
    }
   ],
   "source": [
    "v = Matrix([4,5,6])\n",
    "n = Matrix([1,1,1])\n",
    "(u.dot(n)/n.norm()**2)*n # Projeção de v na direção n"
   ]
  },
  {
   "cell_type": "markdown",
   "metadata": {},
   "source": [
    "O produto vetorial, denotado por $\\times$, recebe dois vetores como input e produz um vetor como output:\n",
    "\n",
    "\\begin{equation}\\vec{u} \\times \\vec{v} = (u_yv_z - u_zv_y,u_zv_x - u_xv_z,u_xv_y - u_y,v_x)\\end{equation}\n",
    "\n",
    "Definindo símbolos individuais para as entradas dos dois vetores, nós podemos fazer SymPy nos mostrar a fórmula do produto vetorial:"
   ]
  },
  {
   "cell_type": "code",
   "execution_count": 16,
   "metadata": {},
   "outputs": [
    {
     "data": {
      "text/latex": [
       "$$\\left[\\begin{matrix}u_{2} v_{3} - u_{3} v_{2}\\\\- u_{1} v_{3} + u_{3} v_{1}\\\\u_{1} v_{2} - u_{2} v_{1}\\end{matrix}\\right]$$"
      ],
      "text/plain": [
       "⎡u₂⋅v₃ - u₃⋅v₂ ⎤\n",
       "⎢              ⎥\n",
       "⎢-u₁⋅v₃ + u₃⋅v₁⎥\n",
       "⎢              ⎥\n",
       "⎣u₁⋅v₂ - u₂⋅v₁ ⎦"
      ]
     },
     "execution_count": 16,
     "metadata": {},
     "output_type": "execute_result"
    }
   ],
   "source": [
    "u1, u2, u3 = symbols('u1:4')\n",
    "v1, v2, v3 = symbols('v1:4')\n",
    "Matrix([u1,u2,u3]).cross(Matrix([v1,v2,v3]))"
   ]
  },
  {
   "cell_type": "markdown",
   "metadata": {},
   "source": [
    "O produto vetorial é anticomutativo $\\vec{u} \\times \\vec{v} = -\\vec{v} \\times \\vec{u}$"
   ]
  },
  {
   "cell_type": "code",
   "execution_count": 19,
   "metadata": {},
   "outputs": [
    {
     "data": {
      "text/latex": [
       "$$\\left ( \\left[\\begin{matrix}4\\\\-14\\\\9\\end{matrix}\\right], \\quad \\left[\\begin{matrix}-4\\\\14\\\\-9\\end{matrix}\\right]\\right )$$"
      ],
      "text/plain": [
       "⎛⎡ 4 ⎤  ⎡-4⎤⎞\n",
       "⎜⎢   ⎥  ⎢  ⎥⎟\n",
       "⎜⎢-14⎥, ⎢14⎥⎟\n",
       "⎜⎢   ⎥  ⎢  ⎥⎟\n",
       "⎝⎣ 9 ⎦  ⎣-9⎦⎠"
      ]
     },
     "execution_count": 19,
     "metadata": {},
     "output_type": "execute_result"
    }
   ],
   "source": [
    "u = Matrix([4,5,6])\n",
    "v = Matrix([-1,1,2])\n",
    "u.cross(v),v.cross(u)"
   ]
  },
  {
   "cell_type": "markdown",
   "metadata": {},
   "source": [
    "Vamos agora olhar algumas especificidades das Matrizes"
   ]
  },
  {
   "cell_type": "code",
   "execution_count": 20,
   "metadata": {},
   "outputs": [],
   "source": [
    "A = Matrix([[2, -3, -8, 7], \n",
    "            [-2, -2 , 2, -7],\n",
    "            [1, 0, -3, 6]])"
   ]
  },
  {
   "cell_type": "markdown",
   "metadata": {},
   "source": [
    "Nós podemos usar a indexação de Python para acessarmos elementos e submatrizes"
   ]
  },
  {
   "cell_type": "code",
   "execution_count": 21,
   "metadata": {},
   "outputs": [
    {
     "data": {
      "image/png": "[encoded data removed]",
      "text/latex": [
       "$$-3$$"
      ],
      "text/plain": [
       "-3"
      ]
     },
     "execution_count": 21,
     "metadata": {},
     "output_type": "execute_result"
    }
   ],
   "source": [
    "A[0,1] # linha 0, coluna 1 da matriz A"
   ]
  },
  {
   "cell_type": "code",
   "execution_count": 22,
   "metadata": {},
   "outputs": [
    {
     "data": {
      "text/latex": [
       "$$\\left[\\begin{matrix}2 & -3 & -8\\\\-2 & -2 & 2\\end{matrix}\\right]$$"
      ],
      "text/plain": [
       "⎡2   -3  -8⎤\n",
       "⎢          ⎥\n",
       "⎣-2  -2  2 ⎦"
      ]
     },
     "execution_count": 22,
     "metadata": {},
     "output_type": "execute_result"
    }
   ],
   "source": [
    "A[0:2, 0:3] # esquerda-topo 2x3 submatriz de A"
   ]
  },
  {
   "cell_type": "markdown",
   "metadata": {},
   "source": [
    "Algumas matrizes usadas com frequência podem ser definidas através dos seguintes atalhos"
   ]
  },
  {
   "cell_type": "code",
   "execution_count": 23,
   "metadata": {},
   "outputs": [
    {
     "data": {
      "text/latex": [
       "$$\\left[\\begin{matrix}1 & 0\\\\0 & 1\\end{matrix}\\right]$$"
      ],
      "text/plain": [
       "⎡1  0⎤\n",
       "⎢    ⎥\n",
       "⎣0  1⎦"
      ]
     },
     "execution_count": 23,
     "metadata": {},
     "output_type": "execute_result"
    }
   ],
   "source": [
    "eye(2) # 2x2 matriz identidade"
   ]
  },
  {
   "cell_type": "code",
   "execution_count": 24,
   "metadata": {},
   "outputs": [
    {
     "data": {
      "text/latex": [
       "$$\\left[\\begin{matrix}0 & 0 & 0\\\\0 & 0 & 0\\end{matrix}\\right]$$"
      ],
      "text/plain": [
       "⎡0  0  0⎤\n",
       "⎢       ⎥\n",
       "⎣0  0  0⎦"
      ]
     },
     "execution_count": 24,
     "metadata": {},
     "output_type": "execute_result"
    }
   ],
   "source": [
    "zeros(2, 3) # 2x3 matriz com zeros"
   ]
  },
  {
   "cell_type": "markdown",
   "metadata": {},
   "source": [
    "Operações algébricas padrões como adição, subtração, multiplicação e exponenciação funcionam como esperados para objetos de Matriz.\n",
    "\n",
    "O método **transpose()** vira a matriz através de sua diagonal:"
   ]
  },
  {
   "cell_type": "code",
   "execution_count": 25,
   "metadata": {},
   "outputs": [
    {
     "data": {
      "text/latex": [
       "$$\\left[\\begin{matrix}2 & -2 & 1\\\\-3 & -2 & 0\\\\-8 & 2 & -3\\\\7 & -7 & 6\\end{matrix}\\right]$$"
      ],
      "text/plain": [
       "⎡2   -2  1 ⎤\n",
       "⎢          ⎥\n",
       "⎢-3  -2  0 ⎥\n",
       "⎢          ⎥\n",
       "⎢-8  2   -3⎥\n",
       "⎢          ⎥\n",
       "⎣7   -7  6 ⎦"
      ]
     },
     "execution_count": 25,
     "metadata": {},
     "output_type": "execute_result"
    }
   ],
   "source": [
    "A.transpose()"
   ]
  },
  {
   "cell_type": "markdown",
   "metadata": {},
   "source": [
    "O determinante de uma matriz é denotado como $det(M)$ ou $|M|$ e pode ser calculado em SymPy como:"
   ]
  },
  {
   "cell_type": "code",
   "execution_count": 26,
   "metadata": {},
   "outputs": [
    {
     "data": {
      "image/png": "[encoded data removed]",
      "text/latex": [
       "$$2$$"
      ],
      "text/plain": [
       "2"
      ]
     },
     "execution_count": 26,
     "metadata": {},
     "output_type": "execute_result"
    }
   ],
   "source": [
    "M = Matrix([ [1, 2, 3],\n",
    "             [2, -2, 4],\n",
    "             [2, 2, 5]])\n",
    "\n",
    "M.det()"
   ]
  },
  {
   "cell_type": "markdown",
   "metadata": {},
   "source": [
    "Para cada Matriz A invertível, existe uma Matriz inversa $A^{-1}$.\n",
    "\n",
    "O efeito cumulativo do produto de $A$ e $A^{-1}$ é a matriz identidade: $AA^{-1} = A^{-1}A = \\mathbb{1}$"
   ]
  },
  {
   "cell_type": "code",
   "execution_count": 30,
   "metadata": {},
   "outputs": [
    {
     "data": {
      "text/latex": [
       "$$\\left ( \\left[\\begin{matrix}3 & - \\frac{2}{3}\\\\-1 & \\frac{1}{3}\\end{matrix}\\right], \\quad \\left[\\begin{matrix}1 & 0\\\\0 & 1\\end{matrix}\\right], \\quad \\left[\\begin{matrix}1 & 0\\\\0 & 1\\end{matrix}\\right]\\right )$$"
      ],
      "text/plain": [
       "⎛⎡3   -2/3⎤  ⎡1  0⎤  ⎡1  0⎤⎞\n",
       "⎜⎢        ⎥, ⎢    ⎥, ⎢    ⎥⎟\n",
       "⎝⎣-1  1/3 ⎦  ⎣0  1⎦  ⎣0  1⎦⎠"
      ]
     },
     "execution_count": 30,
     "metadata": {},
     "output_type": "execute_result"
    }
   ],
   "source": [
    "A = Matrix([[1,2],\n",
    "            [3,9]])\n",
    "\n",
    "# Equivalente à A**(-1)\n",
    "A.inv(),A.inv()*A,A*A.inv()"
   ]
  },
  {
   "cell_type": "markdown",
   "metadata": {},
   "source": [
    "Quando uma matriz é multiplicada por um de seus autovetores o output é o mesmo autovetor multiplicado por uma constante\n",
    "$A\\vec{e}\\lambda = \\lambda\\vec{e}_\\lambda$. A constante $\\lambda$ é chamada de autovalor de $A$.\n",
    "Para encontrar os autovalores de uma matriz, começa-se pela definição $A\\vec{e}_\\lambda = \\lambda\\vec{e}_\\lambda$, insere-se a identidade $\\mathbb{1}$ e reescreve-se como um problema de espaço nulo:\n",
    "\n",
    "\\begin{equation}A\\vec{e}\\lambda = \\lambda\\mathbb{1}\\vec{e}_\\lambda \\Longrightarrow (A - \\lambda\\mathbb{1})\\vec{e}\\lambda = \\vec{0} \\end{equation}\n",
    "\n",
    "Essa equação terá uma solução quando $|A - \\lambda\\mathbb{1}| = 0$. Os autovalores de $A \\in \\mathbb{R}^{n \\times m}$, denotados $\\{ \\lambda1, \\lambda2, ..., \\lambda n \\}$ são raízes do polinômio característico $p(\\lambda) = | A - \\lambda\\mathbb{1}|$\n",
    "\n",
    "É dessa forma que autovetores e autovalores funcionam no SymPy:"
   ]
  },
  {
   "cell_type": "code",
   "execution_count": 33,
   "metadata": {},
   "outputs": [
    {
     "data": {
      "text/latex": [
       "$$\\left [ \\left ( 5, \\quad 1, \\quad \\left [ \\left[\\begin{matrix}\\frac{1}{2}\\\\1\\end{matrix}\\right]\\right ]\\right ), \\quad \\left ( 10, \\quad 1, \\quad \\left [ \\left[\\begin{matrix}-2\\\\1\\end{matrix}\\right]\\right ]\\right )\\right ]$$"
      ],
      "text/plain": [
       "⎡⎛      ⎡⎡1/2⎤⎤⎞  ⎛       ⎡⎡-2⎤⎤⎞⎤\n",
       "⎢⎜5, 1, ⎢⎢   ⎥⎥⎟, ⎜10, 1, ⎢⎢  ⎥⎥⎟⎥\n",
       "⎣⎝      ⎣⎣ 1 ⎦⎦⎠  ⎝       ⎣⎣1 ⎦⎦⎠⎦"
      ]
     },
     "execution_count": 33,
     "metadata": {},
     "output_type": "execute_result"
    }
   ],
   "source": [
    "A = Matrix([ [9, -2],\n",
    "             [-2, 6]])\n",
    "\n",
    "A.eigenvals()\n",
    "\n",
    "A.eigenvects()"
   ]
  },
  {
   "cell_type": "markdown",
   "metadata": {},
   "source": [
    "Certas matrizes podem ser escritas inteiramente em termos de seus autovetores e seus autovalores. Considere a Matrix $\\Lambda$ que tem os autovalores da Matriz $A$ em sua diagonal, e a Matriz $Q$ construída dos autovetores de A como colunas:\n",
    "\n",
    "\\begin{equation}\n",
    "\\Lambda =\n",
    "\\begin{bmatrix}\n",
    "\\lambda_1 & ... & 0 \\\\\n",
    "... & ... & 0 \\\\\n",
    "0 & 0 & \\lambda_n\n",
    "\\end{bmatrix} , \n",
    "Q =\n",
    "\\begin{bmatrix}\n",
    "| & ~ & | \\\\\n",
    "e\\vec{\\lambda}_1 & ... & e\\vec{\\lambda}_n \\\\\n",
    "| & ~ & | \n",
    "\\end{bmatrix} \n",
    "\\end{equation}\n",
    "\n",
    "então $ A = Q \\Lambda Q^{-1} $\n",
    "\n",
    "Matrizes que podem ser escritas dessa maneira são chamadas de diagonalizável.\n",
    "\n",
    "Para diagonalizar uma Matriz $A$ é encontrar suas matrizes $Q$ e $\\Lambda$"
   ]
  },
  {
   "cell_type": "code",
   "execution_count": 39,
   "metadata": {},
   "outputs": [],
   "source": [
    "A = Matrix([ [9, -2], [-2,6]])\n",
    "Q, L = A.diagonalize()"
   ]
  },
  {
   "cell_type": "code",
   "execution_count": 35,
   "metadata": {},
   "outputs": [
    {
     "data": {
      "text/latex": [
       "$$\\left[\\begin{matrix}1 & -2\\\\2 & 1\\end{matrix}\\right]$$"
      ],
      "text/plain": [
       "⎡1  -2⎤\n",
       "⎢     ⎥\n",
       "⎣2  1 ⎦"
      ]
     },
     "execution_count": 35,
     "metadata": {},
     "output_type": "execute_result"
    }
   ],
   "source": [
    "Q # matriz de autovetores, como colunas"
   ]
  },
  {
   "cell_type": "code",
   "execution_count": 36,
   "metadata": {},
   "outputs": [
    {
     "data": {
      "text/latex": [
       "$$\\left[\\begin{matrix}\\frac{1}{5} & \\frac{2}{5}\\\\- \\frac{2}{5} & \\frac{1}{5}\\end{matrix}\\right]$$"
      ],
      "text/plain": [
       "⎡1/5   2/5⎤\n",
       "⎢         ⎥\n",
       "⎣-2/5  1/5⎦"
      ]
     },
     "execution_count": 36,
     "metadata": {},
     "output_type": "execute_result"
    }
   ],
   "source": [
    "Q.inv() # Q**(-1)"
   ]
  },
  {
   "cell_type": "code",
   "execution_count": 37,
   "metadata": {},
   "outputs": [
    {
     "data": {
      "text/latex": [
       "$$\\left[\\begin{matrix}5 & 0\\\\0 & 10\\end{matrix}\\right]$$"
      ],
      "text/plain": [
       "⎡5  0 ⎤\n",
       "⎢     ⎥\n",
       "⎣0  10⎦"
      ]
     },
     "execution_count": 37,
     "metadata": {},
     "output_type": "execute_result"
    }
   ],
   "source": [
    "L"
   ]
  },
  {
   "cell_type": "code",
   "execution_count": 38,
   "metadata": {},
   "outputs": [
    {
     "data": {
      "text/latex": [
       "$$\\left[\\begin{matrix}9 & -2\\\\-2 & 6\\end{matrix}\\right]$$"
      ],
      "text/plain": [
       "⎡9   -2⎤\n",
       "⎢      ⎥\n",
       "⎣-2  6 ⎦"
      ]
     },
     "execution_count": 38,
     "metadata": {},
     "output_type": "execute_result"
    }
   ],
   "source": [
    "Q*L*Q.inv() # autodecomposição de A"
   ]
  },
  {
   "cell_type": "markdown",
   "metadata": {},
   "source": [
    "Nem todas as matrizes são diagonalizáveis. Você pode checar se uma matriz é diagonalizável chamando o método **is_diagonalizable**"
   ]
  },
  {
   "cell_type": "code",
   "execution_count": 40,
   "metadata": {},
   "outputs": [
    {
     "data": {
      "text/plain": [
       "True"
      ]
     },
     "execution_count": 40,
     "metadata": {},
     "output_type": "execute_result"
    }
   ],
   "source": [
    "A.is_diagonalizable()"
   ]
  },
  {
   "cell_type": "code",
   "execution_count": 41,
   "metadata": {},
   "outputs": [
    {
     "data": {
      "text/plain": [
       "False"
      ]
     },
     "execution_count": 41,
     "metadata": {},
     "output_type": "execute_result"
    }
   ],
   "source": [
    "B = Matrix([[1,3], [0,1]])\n",
    "B.is_diagonalizable()"
   ]
  },
  {
   "cell_type": "code",
   "execution_count": 42,
   "metadata": {},
   "outputs": [
    {
     "data": {
      "image/png": "[encoded data removed]",
      "text/latex": [
       "$$\\left \\{ 1 : 2\\right \\}$$"
      ],
      "text/plain": [
       "{1: 2}"
      ]
     },
     "execution_count": 42,
     "metadata": {},
     "output_type": "execute_result"
    }
   ],
   "source": [
    "B.eigenvals()"
   ]
  },
  {
   "cell_type": "code",
   "execution_count": 43,
   "metadata": {},
   "outputs": [
    {
     "data": {
      "text/latex": [
       "$$\\left [ \\left ( 1, \\quad 2, \\quad \\left [ \\left[\\begin{matrix}1\\\\0\\end{matrix}\\right]\\right ]\\right )\\right ]$$"
      ],
      "text/plain": [
       "⎡⎛      ⎡⎡1⎤⎤⎞⎤\n",
       "⎢⎜1, 2, ⎢⎢ ⎥⎥⎟⎥\n",
       "⎣⎝      ⎣⎣0⎦⎦⎠⎦"
      ]
     },
     "execution_count": 43,
     "metadata": {},
     "output_type": "execute_result"
    }
   ],
   "source": [
    "B.eigenvects()"
   ]
  },
  {
   "cell_type": "markdown",
   "metadata": {},
   "source": [
    "A matriz $B$ não é diagonalizável, porque ela não tem um conjunto completo de autovetores. Para diagonalizar uma matriz $2 \\times 2$ nós precisamos de dois autovetores ortogonais, porém B tem somente um único autovetor."
   ]
  }
 ],
 "metadata": {
  "kernelspec": {
   "display_name": "Python 3",
   "language": "python",
   "name": "python3"
  },
  "language_info": {
   "codemirror_mode": {
    "name": "ipython",
    "version": 3
   },
   "file_extension": ".py",
   "mimetype": "text/x-python",
   "name": "python",
   "nbconvert_exporter": "python",
   "pygments_lexer": "ipython3",
   "version": "3.7.1"
  }
 },
 "nbformat": 4,
 "nbformat_minor": 2
}
