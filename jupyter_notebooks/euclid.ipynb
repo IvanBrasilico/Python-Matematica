{
 "cells": [
  {
   "cell_type": "markdown",
   "metadata": {},
   "source": [
    "# Algoritmo Euclideano\n",
    "\n",
    "O Algoritmo Euclideano, também conhecido por Algoritmo de Euclides é um algoritmo destino a buscar o máximo divisor comum de dois números $a$ e $b$.\n",
    "\n",
    "O Algoritmo Euclideano é um exemplo de [problema-P](https://pt.wikipedia.org/wiki/P_(complexidade) no qual sua complexidade está vinculada por uma função quadrática do comprimento do input dos valores.\n",
    "\n",
    "Seja $a=bq+r$, então encontre um número $u$ que divida ambos $a$ e $b$ (de forma que $a=s u$ e $b = t u$) então $u$ também divida $r$ uma vez que:\n",
    "\n",
    "$r = a - bq = s u - q t u = (s - q)u$\n",
    "\n",
    "Similarmente, encontre um número $v$ no qual divida $b$ e $r$ (de forma que $b=s'$ e $r=t' v$) então $v$ divide $a$ uma vez que:\n",
    "\n",
    "$a = b q + r = s' v q + t' v = (s' q + t')v$\n",
    "\n",
    "Sendo assim, cada divisor comum de $a$ e $b$ é um divisor comum de $b$ e $r$, então a iteração do procedimento pode ser da seguinte maneira:\n",
    "\n",
    "$q_1 = \\left[ \\frac{a}{b} \\right]$ $~~$ $a = b q_1 + r_1$ $~~$ $r_1 = a - b q_1$\n",
    "\n",
    "$q_2 = \\left[ \\frac{b}{r_1} \\right]$ $~~$ $b = q_2 r_1 + r_2$ $~~$ $r_2 = b - q_2 r_1$\n",
    "\n",
    "$q_3 = \\left[ \\frac{r_1}{r_2} \\right]$ $~~$ $r_1 = q_3 r_2 + r_3$ $~~$ $r_3 = r_1 - q_3 r_2$\n",
    "\n",
    "$q_4 = \\left[ \\frac{r_2}{r_3} \\right]$ $~~$ $r_2 = q_4 r_3 + r_4$ $~~$ $r_4 = r_2 - q_4 r_3$\n",
    "\n",
    "$q_n = \\left[ \\frac{r_n-2}{r_n-1} \\right]$ $~~$ $r_{n-2} = q_n r_{n-1} + r_n$ $~~$ $r_n = r_{n-2} - q_n r_{n-1}$\n",
    "\n",
    "$q_{n+1} = \\left[ \\frac{r_n-1}{r_n} \\right]$ $~~$ $r_{n-1} = q_{n+1} r_n + 0$ $~~$ $r_n = \\frac{r_{n-1}}{q_{n+1}}$\n",
    "\n",
    "Para inteiros, o algoritmo termina quando $q_{n+1}$ divide $r_{n-1}$ exatamente, em que ponto r_n corresponde ao máximo divisor comum de $a$ e $b$, $GCD(a,b) = r_n$. Para números reais, o algoritmo produz ou uma exata relação ou uma infinita sequência de relações aproximadas.\n",
    "\n",
    "Uma importante consequência do Algoritmo Euclideano é encontrar inteiros $x$ e $y$ tal que\n",
    "\n",
    "$ a x + b y = GCD(a,b)$\n",
    "\n",
    "Isso pode ser feito começando com a equação para $r_n$, substituindo para $r_{n-1}$ da equação anterior e trabalhar para cima através das equações.\n",
    "\n",
    "Perceba que o $r_i$ são apenas **remanescentes**, então o algoritmo pode ser facilmente aplicado à mão através da repetida computação de remanescentes dos termos consecutivos, começando com dois números de interesse.\n",
    "\n",
    "Vejamos exemplos do algoritmo:"
   ]
  },
  {
   "cell_type": "code",
   "execution_count": 22,
   "metadata": {},
   "outputs": [
    {
     "name": "stdout",
     "output_type": "stream",
     "text": [
      "\n",
      "305 = 3 * 96 + 17\n",
      "96 = 5 * 17 + 11\n",
      "17 = 1 * 11 + 6\n",
      "11 = 1 * 6 + 5\n",
      "6 = 1 * 5 + 1\n",
      "5 = 5 * 1 + 0\n",
      "máximo divisor comum é 1\n",
      "\n",
      "\n",
      "1000 = 100 * 10 + 0\n",
      "máximo divisor comum é 10\n",
      "\n",
      "\n",
      "150 = 16 * 9 + 6\n",
      "9 = 1 * 6 + 3\n",
      "6 = 2 * 3 + 0\n",
      "máximo divisor comum é 3\n",
      "\n",
      "\n",
      "666 = 95 * 7 + 1\n",
      "7 = 7 * 1 + 0\n",
      "máximo divisor comum é 1\n",
      "\n",
      "\n",
      "200 = 10 * 20 + 0\n",
      "máximo divisor comum é 20\n",
      "\n",
      "\n",
      "6 = 2 * 3 + 0\n",
      "máximo divisor comum é 3\n",
      "\n"
     ]
    }
   ],
   "source": [
    "from math import *\n",
    "\n",
    "def euclid_algoritmo(x, y, verbose=True):\n",
    "    if x < y: # Nós desejamos x >= y\n",
    "        return euclid_algoritmo(y, x, verbose)\n",
    "    print()\n",
    "    while y != 0:\n",
    "        if verbose: \n",
    "            print('%s = %s * %s + %s' % (x, floor(x/y), y, x % y))\n",
    "        (x, y) = (y, x % y)\n",
    "    if verbose: print('máximo divisor comum é %s' % x) \n",
    "    print()\n",
    "\n",
    "euclid_algoritmo(305, 96)\n",
    "euclid_algoritmo(1000, 10)\n",
    "euclid_algoritmo(150, 9)\n",
    "euclid_algoritmo(666, 7)\n",
    "euclid_algoritmo(200, 20)\n",
    "euclid_algoritmo(6, 3)"
   ]
  },
  {
   "cell_type": "markdown",
   "metadata": {},
   "source": [
    "Existe uma maneira simplificada de computarmos utilizando a função **gcd()** do módulo **math**"
   ]
  },
  {
   "cell_type": "code",
   "execution_count": 8,
   "metadata": {},
   "outputs": [
    {
     "name": "stdout",
     "output_type": "stream",
     "text": [
      "5\n",
      "15\n",
      "1\n",
      "200\n",
      "3\n"
     ]
    }
   ],
   "source": [
    "def gcd(a, b):\n",
    "    if b > a:\n",
    "        return gcd(b, a)\n",
    "    if a % b == 0:\n",
    "        return b\n",
    "    return gcd(b, a % b)      \n",
    "        \n",
    "print(gcd(10,5))\n",
    "print(gcd(30,15))\n",
    "print(gcd(500,53))\n",
    "print(gcd(1000,600))\n",
    "print(gcd(333,66))"
   ]
  }
 ],
 "metadata": {
  "kernelspec": {
   "display_name": "Python 3",
   "language": "python",
   "name": "python3"
  },
  "language_info": {
   "codemirror_mode": {
    "name": "ipython",
    "version": 3
   },
   "file_extension": ".py",
   "mimetype": "text/x-python",
   "name": "python",
   "nbconvert_exporter": "python",
   "pygments_lexer": "ipython3",
   "version": "3.7.1"
  }
 },
 "nbformat": 4,
 "nbformat_minor": 2
}
