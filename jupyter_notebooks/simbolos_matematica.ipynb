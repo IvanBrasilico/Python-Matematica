{
 "cells": [
  {
   "cell_type": "markdown",
   "metadata": {},
   "source": [
    "# Símbolos da Matemática Explicados com Python\n",
    "\n",
    "Quando trabalhamos em projetos de Machine Learning é muito comum nos depararmos com uma grande variedade de equações que devemos implementar em nosso código.\n",
    "\n",
    "Nesse post explicaremos as notações matemáticas mais comuns ao conectarmos elas com seus conceitos análogos em Python. Uma vez que você aprenda elas, você estará apto a entender intuitivamente a intenção da equação e poderá implementar ela em seu código.\n",
    "\n",
    "\\begin{equation}\\frac{{1}}{{N}} \\sum_{i=1}^{N} (y_i - \\hat{y_i})^2 \\end{equation}\n",
    "\n",
    "## Indexando\n",
    "\n",
    "\\begin{equation} X_i \\end{equation}\n",
    "\n",
    "Esse símbolo obtém o valor no índice $i^{th}$ do vetor"
   ]
  },
  {
   "cell_type": "code",
   "execution_count": 1,
   "metadata": {},
   "outputs": [
    {
     "name": "stdout",
     "output_type": "stream",
     "text": [
      "10\n"
     ]
    }
   ],
   "source": [
    "x = [10, 20, 30]\n",
    "i = 0\n",
    "print(x[i])"
   ]
  },
  {
   "cell_type": "markdown",
   "metadata": {},
   "source": [
    "Podemos extender essa ideia para vetores 2D\n",
    "\n",
    "\\begin{equation} X_{ij} \\end{equation}"
   ]
  },
  {
   "cell_type": "code",
   "execution_count": 2,
   "metadata": {},
   "outputs": [
    {
     "name": "stdout",
     "output_type": "stream",
     "text": [
      "20\n"
     ]
    }
   ],
   "source": [
    "x = [[10,20,30],[40,50,60]]\n",
    "i = 0\n",
    "j = 1\n",
    "print(x[i][j])"
   ]
  },
  {
   "cell_type": "markdown",
   "metadata": {},
   "source": [
    "## Sigma\n",
    "\n",
    "\\begin{equation}\\sum_{i=0}^{N} X_{i} \\end{equation}\n",
    "\n",
    "Esse símbolo busca a soma de todos os elementos em um vetor para uma determinada extensão. Em Python ele é equivalente a executarmos um loop sob um vetor do índice $0$ até o índice $n$"
   ]
  },
  {
   "cell_type": "code",
   "execution_count": 3,
   "metadata": {},
   "outputs": [
    {
     "name": "stdout",
     "output_type": "stream",
     "text": [
      "15\n"
     ]
    }
   ],
   "source": [
    "x = [1, 2, 3, 4, 5]\n",
    "result = 0\n",
    "N = len(x)\n",
    "for i in range(N):\n",
    "    result = result + x[i]\n",
    "print(result)"
   ]
  },
  {
   "cell_type": "markdown",
   "metadata": {},
   "source": [
    "Podemos ainda escrever de maneira simplificada"
   ]
  },
  {
   "cell_type": "code",
   "execution_count": 4,
   "metadata": {},
   "outputs": [
    {
     "name": "stdout",
     "output_type": "stream",
     "text": [
      "15\n"
     ]
    }
   ],
   "source": [
    "x = [1,2,3,4,5]\n",
    "result = sum(x)\n",
    "print(result)"
   ]
  },
  {
   "cell_type": "markdown",
   "metadata": {},
   "source": [
    "## Média\n",
    "\n",
    "\\begin{equation}\\frac{{1}}{{N}} \\sum_{i=0}^{N} X_{i} \\end{equation}\n",
    "\n",
    "Aqui nós usamos a notação sigma e dividimos pelo número de elementos da lista para obtermos a média"
   ]
  },
  {
   "cell_type": "code",
   "execution_count": 6,
   "metadata": {},
   "outputs": [
    {
     "name": "stdout",
     "output_type": "stream",
     "text": [
      "3.0\n"
     ]
    }
   ],
   "source": [
    "x = [1, 2, 3, 4, 5]\n",
    "result = 0\n",
    "N = len(x)\n",
    "for i in range(N):\n",
    "    result = result + x[i]\n",
    "average = result / N\n",
    "print(average)"
   ]
  },
  {
   "cell_type": "markdown",
   "metadata": {},
   "source": [
    "Podemos ainda escrever de maneira simplificada"
   ]
  },
  {
   "cell_type": "code",
   "execution_count": 7,
   "metadata": {},
   "outputs": [
    {
     "name": "stdout",
     "output_type": "stream",
     "text": [
      "3.0\n"
     ]
    }
   ],
   "source": [
    "x = [1, 2, 3, 4, 5]\n",
    "result = sum(x) / len(x)\n",
    "print(result)"
   ]
  },
  {
   "cell_type": "markdown",
   "metadata": {},
   "source": [
    "## PI\n",
    "\n",
    "\\begin{equation}\\prod_{i=0}^{N} X_i\\end{equation}\n",
    "\n",
    "Esse símbolo busca o produto de todos os elementos em um vetor para uma determinada extensão. Em Python, é equivalente a executarmos um loop sob um vetor de um índice $0$ até um índice $n$ multiplicando os elementos."
   ]
  },
  {
   "cell_type": "code",
   "execution_count": 8,
   "metadata": {},
   "outputs": [
    {
     "name": "stdout",
     "output_type": "stream",
     "text": [
      "120\n"
     ]
    }
   ],
   "source": [
    "x = [1, 2, 3, 4, 5]\n",
    "result = 1\n",
    "N = len(x)\n",
    "for i in range(N):\n",
    "    result = result * x[i]\n",
    "print(result)"
   ]
  },
  {
   "cell_type": "markdown",
   "metadata": {},
   "source": [
    "## Pipe\n",
    "\n",
    "O símbolo pipe pode ter diferentes significados dependendo da aplicação\n",
    "\n",
    "### Valor Absoluto\n",
    "\n",
    "\\begin{equation}\\vert x \\vert\\end{equation}\n",
    "\\begin{equation}\\vert y \\vert\\end{equation}\n",
    "\n",
    "O símbolo denota o valor absoluto de um número"
   ]
  },
  {
   "cell_type": "code",
   "execution_count": 9,
   "metadata": {},
   "outputs": [
    {
     "name": "stdout",
     "output_type": "stream",
     "text": [
      "10\n",
      "20\n"
     ]
    }
   ],
   "source": [
    "x = 10\n",
    "y = -20\n",
    "print(abs(x))\n",
    "print(abs(y))"
   ]
  },
  {
   "cell_type": "markdown",
   "metadata": {},
   "source": [
    "## Norma do Vetor\n",
    "\n",
    "\\begin{equation} {|x|} \\end{equation}\n",
    "\n",
    "\\begin{equation} {||x||} \\end{equation}\n",
    "\n",
    "A norma do vetor é usada para calcular a magnitude do vetor. Em Python, isso significa elevar cada elemento de um array ao quadrado, somar eles e então obter a raiz quadrada."
   ]
  },
  {
   "cell_type": "code",
   "execution_count": 17,
   "metadata": {},
   "outputs": [
    {
     "data": {
      "text/plain": [
       "3.7416573867739413"
      ]
     },
     "execution_count": 17,
     "metadata": {},
     "output_type": "execute_result"
    }
   ],
   "source": [
    "import math\n",
    "x = [1, 2, 3]\n",
    "math.sqrt(x[0]**2 + x[1]**2 + x[2]**2)"
   ]
  },
  {
   "cell_type": "markdown",
   "metadata": {},
   "source": [
    "## Epsilon\n",
    "\n",
    "\\begin{equation} 3 \\epsilon X \\end{equation}\n",
    "\n",
    "Esse símbolo checa se um elemento é parte de um conjunto. Em Python o equivalente seria"
   ]
  },
  {
   "cell_type": "code",
   "execution_count": 18,
   "metadata": {},
   "outputs": [
    {
     "data": {
      "text/plain": [
       "True"
      ]
     },
     "execution_count": 18,
     "metadata": {},
     "output_type": "execute_result"
    }
   ],
   "source": [
    "X = {1, 2, 3}\n",
    "3 in X"
   ]
  },
  {
   "cell_type": "markdown",
   "metadata": {},
   "source": [
    "## Função\n",
    "\n",
    "\\begin{equation} f : X \\rightarrow Y \\end{equation}\n",
    "\n",
    "Denota uma função que recebe um **Domínio** X e mapeia ele para uma extensão Y. Em Python, teriamos como equivalente obter uma gama de valores X, executar algumas operações neles para calcular uma gama de valores Y"
   ]
  },
  {
   "cell_type": "code",
   "execution_count": 19,
   "metadata": {},
   "outputs": [],
   "source": [
    "def f(X):\n",
    "    Y = 2*X\n",
    "    return Y"
   ]
  },
  {
   "cell_type": "markdown",
   "metadata": {},
   "source": [
    "Nós podemos encontrar os seguintes símbolos no lugar de X e Y\n",
    "\n",
    "\\begin{equation} f : R \\rightarrow R \\end{equation}\n",
    "\n",
    "$R$ significa que o input e o output são números reais e podem receber qualquer valor (inteiro, ponto flutuante, irracional, racional). Em Python, é equivalente a qualquer valor, exceto números complexos"
   ]
  },
  {
   "cell_type": "code",
   "execution_count": 14,
   "metadata": {},
   "outputs": [
    {
     "name": "stdout",
     "output_type": "stream",
     "text": [
      "1 2.5 3.141592653589793\n"
     ]
    }
   ],
   "source": [
    "x = 1\n",
    "y = 2.5\n",
    "z = math.pi\n",
    "print(x,y,z)"
   ]
  },
  {
   "cell_type": "markdown",
   "metadata": {},
   "source": [
    "Você também poderá encontrar símbolos como\n",
    "\n",
    "\\begin{equation} f : R^{d} \\rightarrow R \\end{equation}\n",
    "\n",
    "$R^{d}$ significa um vetor de $d$ dimensões de números reais\n",
    "\n",
    "Vamos assumir que $d=2$. em Python, o exemplo pode ser uma função que recebe um array 2D e retorna sua soma, Estaria mapeando $R^{d}$ para $R$"
   ]
  },
  {
   "cell_type": "code",
   "execution_count": 16,
   "metadata": {},
   "outputs": [
    {
     "name": "stdout",
     "output_type": "stream",
     "text": [
      "10\n"
     ]
    }
   ],
   "source": [
    "import numpy as np\n",
    "\n",
    "X = [[1, 2], [3, 4]]\n",
    "f = np.sum\n",
    "Y = f(X)\n",
    "print(Y)"
   ]
  },
  {
   "cell_type": "markdown",
   "metadata": {},
   "source": [
    "## Tensores\n",
    "\n",
    "### Transposição\n",
    "\n",
    "\\begin{equation} X^{T} \\end{equation}\n",
    "\n",
    "Basicamente estamos trocando as linhas e colunas. Em Python o equivalente seria:"
   ]
  },
  {
   "cell_type": "code",
   "execution_count": 20,
   "metadata": {},
   "outputs": [
    {
     "data": {
      "text/plain": [
       "array([[1, 4],\n",
       "       [2, 5],\n",
       "       [3, 6]])"
      ]
     },
     "execution_count": 20,
     "metadata": {},
     "output_type": "execute_result"
    }
   ],
   "source": [
    "X = [[1, 2, 3], \n",
    "    [4, 5, 6]]\n",
    "np.transpose(X)"
   ]
  },
  {
   "cell_type": "markdown",
   "metadata": {},
   "source": [
    "## Multiplicação de Cada Elemento\n",
    "\n",
    "\\begin{equation} z = x \\odot y \\end{equation}\n",
    "\n",
    "Significa multiplicar os elementos correspondentes em dois tensores. Em Python, seria o equivalente a multiplicar os elementos correspondentes em duas listas"
   ]
  },
  {
   "cell_type": "code",
   "execution_count": 21,
   "metadata": {},
   "outputs": [
    {
     "name": "stdout",
     "output_type": "stream",
     "text": [
      "[[2 4]\n",
      " [6 8]]\n"
     ]
    }
   ],
   "source": [
    "x = [[1, 2], \n",
    "    [3, 4]]\n",
    "y = [[2, 2], \n",
    "    [2, 2]]\n",
    "z = np.multiply(x, y)\n",
    "print(z)"
   ]
  },
  {
   "cell_type": "markdown",
   "metadata": {},
   "source": [
    "## Produto Escalar\n",
    "\n",
    "\\begin{equation} X \\cdot Y \\end{equation}\n",
    "\n",
    "O produto escalar nos fornece a soma dos produtos das entradas correspondentes das duas sequências de números"
   ]
  },
  {
   "cell_type": "code",
   "execution_count": 22,
   "metadata": {},
   "outputs": [
    {
     "data": {
      "text/plain": [
       "35"
      ]
     },
     "execution_count": 22,
     "metadata": {},
     "output_type": "execute_result"
    }
   ],
   "source": [
    "X = [1, 2, 3]\n",
    "Y = [4, 5, 7]\n",
    "np.dot(X,Y)"
   ]
  },
  {
   "cell_type": "markdown",
   "metadata": {},
   "source": [
    "## Hat\n",
    "\n",
    "\\begin{equation}\\hat{X}\\end{equation}\n",
    "\n",
    "Hat nos fornece o vetor unidade. Isso significa dividir cada componente em um vetor por seu comprimento(norma)"
   ]
  },
  {
   "cell_type": "code",
   "execution_count": 25,
   "metadata": {},
   "outputs": [
    {
     "name": "stdout",
     "output_type": "stream",
     "text": [
      "[0.2672612419124244, 0.5345224838248488, 0.8017837257372732]\n"
     ]
    }
   ],
   "source": [
    "x = [1, 2, 3]\n",
    "length = math.sqrt(sum([e**2 for e in x]))\n",
    "x_hat = [e/length for e in x]\n",
    "print(x_hat)"
   ]
  },
  {
   "cell_type": "markdown",
   "metadata": {},
   "source": [
    "Isso faz a magnitude do vetor $1$ e apenas mantém a direção"
   ]
  },
  {
   "cell_type": "code",
   "execution_count": 24,
   "metadata": {},
   "outputs": [
    {
     "data": {
      "text/plain": [
       "1.0"
      ]
     },
     "execution_count": 24,
     "metadata": {},
     "output_type": "execute_result"
    }
   ],
   "source": [
    "math.sqrt(sum([e**2 for e in x_hat]))"
   ]
  },
  {
   "cell_type": "markdown",
   "metadata": {},
   "source": [
    "## Exclamação\n",
    "\n",
    "\\begin{equation}x!\\end{equation}\n",
    "\n",
    "Essa expressão denota o fatorial de um número. É o produto de números começando de $1$ até o número $x$. Em Python podemos calcular como"
   ]
  },
  {
   "cell_type": "code",
   "execution_count": 27,
   "metadata": {},
   "outputs": [
    {
     "name": "stdout",
     "output_type": "stream",
     "text": [
      "5040\n"
     ]
    }
   ],
   "source": [
    "x = 7\n",
    "fact = 1\n",
    "for i in range(x, 0, -1):\n",
    "    fact = fact * i\n",
    "print(fact)"
   ]
  },
  {
   "cell_type": "markdown",
   "metadata": {},
   "source": [
    "Podemos ainda simplificar como"
   ]
  },
  {
   "cell_type": "code",
   "execution_count": 28,
   "metadata": {},
   "outputs": [
    {
     "data": {
      "text/plain": [
       "720"
      ]
     },
     "execution_count": 28,
     "metadata": {},
     "output_type": "execute_result"
    }
   ],
   "source": [
    "math.factorial(6)"
   ]
  }
 ],
 "metadata": {
  "kernelspec": {
   "display_name": "Python 3",
   "language": "python",
   "name": "python3"
  },
  "language_info": {
   "codemirror_mode": {
    "name": "ipython",
    "version": 3
   },
   "file_extension": ".py",
   "mimetype": "text/x-python",
   "name": "python",
   "nbconvert_exporter": "python",
   "pygments_lexer": "ipython3",
   "version": "3.7.4"
  }
 },
 "nbformat": 4,
 "nbformat_minor": 2
}
