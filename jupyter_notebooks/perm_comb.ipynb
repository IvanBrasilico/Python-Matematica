{
 "cells": [
  {
   "cell_type": "markdown",
   "metadata": {},
   "source": [
    "# Itertools\n",
    "\n",
    "O módulo itertools implementa um número de blocos de construção de **iterador** inspirado em constructos das linguagens APL, Haskell e SML.\n",
    "\n",
    "O módulo padroniza um conjunto de ferramentas rápidas, com eficiência de memória, que são muito úteis por elas mesmas ou em combinação. Juntas elas formam a \"álgebra iteradora\", tornando possível a construção de ferramentas especializadas em Python puro, de forma sucinta e eficiente.\n",
    "\n",
    "### Vejamos alguns exemplos"
   ]
  },
  {
   "cell_type": "code",
   "execution_count": 2,
   "metadata": {},
   "outputs": [
    {
     "name": "stdout",
     "output_type": "stream",
     "text": [
      "['__doc__', '__loader__', '__name__', '__package__', '__spec__', '_grouper', '_tee', '_tee_dataobject', 'accumulate', 'chain', 'combinations', 'combinations_with_replacement', 'compress', 'count', 'cycle', 'dropwhile', 'filterfalse', 'groupby', 'islice', 'permutations', 'product', 'repeat', 'starmap', 'takewhile', 'tee', 'zip_longest']\n"
     ]
    }
   ],
   "source": [
    "# Começamos importando a biblioteca\n",
    "import itertools\n",
    "\n",
    "# Vejamos o que há disponível para trabalharmos\n",
    "print(dir(itertools))"
   ]
  },
  {
   "cell_type": "markdown",
   "metadata": {},
   "source": [
    "### Criando um contador simples"
   ]
  },
  {
   "cell_type": "code",
   "execution_count": 3,
   "metadata": {},
   "outputs": [
    {
     "name": "stdout",
     "output_type": "stream",
     "text": [
      "0\n",
      "1\n",
      "2\n",
      "3\n"
     ]
    }
   ],
   "source": [
    "contador = itertools.count()\n",
    "\n",
    "print(next(contador))\n",
    "print(next(contador))\n",
    "print(next(contador))\n",
    "print(next(contador))"
   ]
  },
  {
   "cell_type": "markdown",
   "metadata": {},
   "source": [
    "### Alterando o comportamento do contador"
   ]
  },
  {
   "cell_type": "code",
   "execution_count": 5,
   "metadata": {},
   "outputs": [
    {
     "name": "stdout",
     "output_type": "stream",
     "text": [
      "8\n",
      "16\n",
      "24\n",
      "32\n"
     ]
    }
   ],
   "source": [
    "contador = itertools.count(start=8, step=8) # Definimos o início da contagem para 8 e os passos de cada iteração para 8\n",
    "\n",
    "print(next(contador))\n",
    "print(next(contador))\n",
    "print(next(contador))\n",
    "print(next(contador))"
   ]
  },
  {
   "cell_type": "code",
   "execution_count": 7,
   "metadata": {},
   "outputs": [
    {
     "name": "stdout",
     "output_type": "stream",
     "text": [
      "0\n",
      "-3\n",
      "-6\n",
      "-9\n"
     ]
    }
   ],
   "source": [
    "contador = itertools.count(start=0, step=-3) # Veja que também podemos trabalhar com números negativos\n",
    "\n",
    "print(next(contador))\n",
    "print(next(contador))\n",
    "print(next(contador))\n",
    "print(next(contador))"
   ]
  },
  {
   "cell_type": "markdown",
   "metadata": {},
   "source": [
    "### Também podemos criar ciclos"
   ]
  },
  {
   "cell_type": "code",
   "execution_count": 12,
   "metadata": {},
   "outputs": [
    {
     "name": "stdout",
     "output_type": "stream",
     "text": [
      "0\n",
      "1\n",
      "0\n",
      "1\n"
     ]
    }
   ],
   "source": [
    "contador = itertools.cycle([0,1])\n",
    "\n",
    "print(next(contador))\n",
    "print(next(contador))\n",
    "print(next(contador))\n",
    "print(next(contador))"
   ]
  },
  {
   "cell_type": "markdown",
   "metadata": {},
   "source": [
    "### Função starmap\n",
    "\n",
    "A função **starmap()** recebe uma função e uma lista de tuplas como argumento e nos retorna os cálculos mapeados (nesse caso estamos elevando 1, 5 e 3 ao cubo), observe também que estamos transformando o **iterador cubos** em uma lista antes de imprimirmos"
   ]
  },
  {
   "cell_type": "code",
   "execution_count": 14,
   "metadata": {},
   "outputs": [
    {
     "name": "stdout",
     "output_type": "stream",
     "text": [
      "<class 'itertools.starmap'>\n",
      "[1, 125, 1000000]\n"
     ]
    }
   ],
   "source": [
    "cubos = itertools.starmap(pow, [(1,3),(5,3),(100,3)])\n",
    "print(type(cubos))\n",
    "print(list(cubos))"
   ]
  },
  {
   "cell_type": "markdown",
   "metadata": {},
   "source": [
    "## Combinações e Permutações\n",
    "\n",
    "Combinações nos permite pegar um iterável e ele nos retornará todas as combinações possíveis do mesmo.\n",
    "\n",
    "Basicamente as combinações são todas as diferentes maneiras que podemos agrupar um certo número de itens em que a ordem não importa.\n",
    "\n",
    "Permutações são todas as maneiras diferentes que podemos agrupar  um certo número de itens, onde a ordem importa.\n",
    "\n",
    "### Vejamos alguns exemplos para esclarecer\n",
    "\n",
    "#### Combinações"
   ]
  },
  {
   "cell_type": "code",
   "execution_count": 21,
   "metadata": {},
   "outputs": [
    {
     "name": "stdout",
     "output_type": "stream",
     "text": [
      "('a', 'e')\n",
      "('a', 'i')\n",
      "('a', 'o')\n",
      "('a', 'u')\n",
      "('e', 'i')\n",
      "('e', 'o')\n",
      "('e', 'u')\n",
      "('i', 'o')\n",
      "('i', 'u')\n",
      "('o', 'u')\n"
     ]
    }
   ],
   "source": [
    "letras = ['a','e','i','o','u']\n",
    "numeros = [0,1,2,3]\n",
    "nomes = ['Gabriel','Rafael','Daniel','Miguel']\n",
    "\n",
    "# Nos retorna todas as combinações possíveis entre dois valores\n",
    "resultado = itertools.combinations(letras,2)\n",
    "\n",
    "# Percorremos o iterável resultado\n",
    "for item in resultado:\n",
    "    print(item)"
   ]
  },
  {
   "cell_type": "markdown",
   "metadata": {},
   "source": [
    "#### Permutações\n",
    "\n",
    "Observe que com permutações as possibilidades de combinações aumentam"
   ]
  },
  {
   "cell_type": "code",
   "execution_count": 22,
   "metadata": {},
   "outputs": [
    {
     "name": "stdout",
     "output_type": "stream",
     "text": [
      "('a', 'e')\n",
      "('a', 'i')\n",
      "('a', 'o')\n",
      "('a', 'u')\n",
      "('e', 'a')\n",
      "('e', 'i')\n",
      "('e', 'o')\n",
      "('e', 'u')\n",
      "('i', 'a')\n",
      "('i', 'e')\n",
      "('i', 'o')\n",
      "('i', 'u')\n",
      "('o', 'a')\n",
      "('o', 'e')\n",
      "('o', 'i')\n",
      "('o', 'u')\n",
      "('u', 'a')\n",
      "('u', 'e')\n",
      "('u', 'i')\n",
      "('u', 'o')\n"
     ]
    }
   ],
   "source": [
    "# Nos retorna todas as permutações possíveis entre dois valores\n",
    "resultado = itertools.permutations(letras,2)\n",
    "\n",
    "# Percorremos o iterável resultado\n",
    "for item in resultado:\n",
    "    print(item)"
   ]
  },
  {
   "cell_type": "markdown",
   "metadata": {},
   "source": [
    "### Product\n",
    "\n",
    "A função **product** nos permite repetir os valores, ela nos fornecerá o produto cartesiano dos iteráveis que passamos como argumento"
   ]
  },
  {
   "cell_type": "code",
   "execution_count": 27,
   "metadata": {},
   "outputs": [
    {
     "name": "stdout",
     "output_type": "stream",
     "text": [
      "(0, 0)\n",
      "(0, 1)\n",
      "(0, 2)\n",
      "(0, 3)\n",
      "(1, 0)\n",
      "(1, 1)\n",
      "(1, 2)\n",
      "(1, 3)\n",
      "(2, 0)\n",
      "(2, 1)\n",
      "(2, 2)\n",
      "(2, 3)\n",
      "(3, 0)\n",
      "(3, 1)\n",
      "(3, 2)\n",
      "(3, 3)\n"
     ]
    }
   ],
   "source": [
    "# Passamos o iterável numeros e a quantidade de vezes que desejamos repetir o produto cartesiano, nesse caso 2\n",
    "resultado = itertools.product(numeros,repeat=2)\n",
    "\n",
    "# Percorremos o iterável resultado\n",
    "for item in resultado:\n",
    "    print(item)"
   ]
  },
  {
   "cell_type": "markdown",
   "metadata": {},
   "source": [
    "### Chain\n",
    "\n",
    "A função **chain** nos permite combinar diversos iteráveis, nos possibilitando percorrê-los através de um loop"
   ]
  },
  {
   "cell_type": "code",
   "execution_count": 31,
   "metadata": {},
   "outputs": [
    {
     "name": "stdout",
     "output_type": "stream",
     "text": [
      "a\n",
      "e\n",
      "i\n",
      "o\n",
      "u\n",
      "0\n",
      "1\n",
      "2\n",
      "3\n",
      "Gabriel\n",
      "Rafael\n",
      "Daniel\n",
      "Miguel\n"
     ]
    }
   ],
   "source": [
    "# Combina as três listas\n",
    "combinados = itertools.chain(letras, numeros, nomes)\n",
    "\n",
    "for item in combinados:\n",
    "    print(item)"
   ]
  },
  {
   "cell_type": "markdown",
   "metadata": {},
   "source": [
    "### Compress\n",
    "\n",
    "A função **compress** atua como uma espécie de filtro, neste caso combinamos a lista **nomes** com a lista **seletores** e ela nos retorna um iterável, ao percorrermos o iterável com um loop, nós é retornado apenas os valores **True**. "
   ]
  },
  {
   "cell_type": "code",
   "execution_count": 38,
   "metadata": {},
   "outputs": [
    {
     "name": "stdout",
     "output_type": "stream",
     "text": [
      "Gabriel\n",
      "Rafael\n",
      "Miguel\n"
     ]
    }
   ],
   "source": [
    "seletores = [True,True,False,True]\n",
    "\n",
    "resultado = itertools.compress(nomes,seletores)\n",
    "\n",
    "for item in resultado:\n",
    "    print(item)"
   ]
  },
  {
   "cell_type": "markdown",
   "metadata": {},
   "source": [
    "### Accumulate\n",
    "\n",
    "A função **accumulate** executa a soma dos valores de forma acumulada até atingirmos o fim de nossa lista"
   ]
  },
  {
   "cell_type": "code",
   "execution_count": 40,
   "metadata": {},
   "outputs": [
    {
     "name": "stdout",
     "output_type": "stream",
     "text": [
      "1\n",
      "3\n",
      "6\n",
      "10\n",
      "15\n",
      "21\n",
      "28\n"
     ]
    }
   ],
   "source": [
    "valores = [1,2,3,4,5,6,7]\n",
    "\n",
    "# Passamos os valores como argumento para a função accumulate\n",
    "resultado = itertools.accumulate(valores)\n",
    "\n",
    "for item in resultado:\n",
    "    print(item)"
   ]
  },
  {
   "cell_type": "markdown",
   "metadata": {},
   "source": [
    "Também podemos utilizar a função **accumulate** com multiplicações, para essa tarefa específica importaremos a biblioteca **operator**"
   ]
  },
  {
   "cell_type": "code",
   "execution_count": 42,
   "metadata": {},
   "outputs": [
    {
     "name": "stdout",
     "output_type": "stream",
     "text": [
      "1\n",
      "2\n",
      "6\n",
      "24\n",
      "120\n",
      "720\n",
      "5040\n"
     ]
    }
   ],
   "source": [
    "import operator\n",
    "\n",
    "# Passamos os valores e o operador como argumento para a função accumulate\n",
    "resultado = itertools.accumulate(valores,operator.mul)\n",
    "\n",
    "for item in resultado:\n",
    "    print(item)"
   ]
  }
 ],
 "metadata": {
  "kernelspec": {
   "display_name": "Python 3",
   "language": "python",
   "name": "python3"
  },
  "language_info": {
   "codemirror_mode": {
    "name": "ipython",
    "version": 3
   },
   "file_extension": ".py",
   "mimetype": "text/x-python",
   "name": "python",
   "nbconvert_exporter": "python",
   "pygments_lexer": "ipython3",
   "version": "3.7.1"
  }
 },
 "nbformat": 4,
 "nbformat_minor": 2
}
