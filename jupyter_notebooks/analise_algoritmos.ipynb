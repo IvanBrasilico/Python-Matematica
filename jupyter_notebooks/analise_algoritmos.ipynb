{
 "cells": [
  {
   "cell_type": "markdown",
   "metadata": {},
   "source": [
    "# Análise de Algoritmos\n",
    "\n",
    "- Um algoritmo é um procedimento ou fórmula para resolver um problema\n",
    "- Alguns são muitos importantes que recebem nomes especiais: merge sort, bubble sort, binary search\n",
    "- A **grande questão** é: Como podemos comparar algoritmos para sabermos quais são melhores e mais eficientes?\n",
    "\n",
    "Vejamos alguns exemplos"
   ]
  },
  {
   "cell_type": "code",
   "execution_count": 5,
   "metadata": {},
   "outputs": [],
   "source": [
    "def soma_um(n):\n",
    "    # Recebe n como input e retorna a soma dos números 0 até n\n",
    "    soma_final = 0\n",
    "    for x in range(n+1):\n",
    "        soma_final += x\n",
    "    return soma_final"
   ]
  },
  {
   "cell_type": "code",
   "execution_count": 6,
   "metadata": {},
   "outputs": [
    {
     "name": "stdout",
     "output_type": "stream",
     "text": [
      "55\n",
      "120\n",
      "15\n"
     ]
    }
   ],
   "source": [
    "print(soma_um(10))\n",
    "print(soma_um(15))\n",
    "print(soma_um(5))"
   ]
  },
  {
   "cell_type": "code",
   "execution_count": 7,
   "metadata": {},
   "outputs": [],
   "source": [
    "def soma_dois(n):\n",
    "    # Recebe n como input e retorna a soma dos números 0 até n\n",
    "    return (n*(n+1))/2"
   ]
  },
  {
   "cell_type": "code",
   "execution_count": 8,
   "metadata": {},
   "outputs": [
    {
     "name": "stdout",
     "output_type": "stream",
     "text": [
      "15.0\n",
      "55.0\n"
     ]
    }
   ],
   "source": [
    "print(soma_dois(5))\n",
    "print(soma_dois(10))"
   ]
  },
  {
   "cell_type": "markdown",
   "metadata": {},
   "source": [
    "A função **soma_um()** utiliza um *loop for* para adicionar iterativamente através de nosso **range + 1**.\n",
    "\n",
    "A função **soma_dois()** faz uso de uma fórmula para resolver o problema\n",
    "\n",
    "## Comparando-os Objetivamente\n",
    "\n",
    "- Espaço de memória\n",
    "- Tempo para rodar"
   ]
  },
  {
   "cell_type": "code",
   "execution_count": 9,
   "metadata": {},
   "outputs": [
    {
     "name": "stdout",
     "output_type": "stream",
     "text": [
      "5.03 µs ± 158 ns per loop (mean ± std. dev. of 7 runs, 100000 loops each)\n"
     ]
    }
   ],
   "source": [
    "# Vamos utilizar o comando mágico constrúido do jupyter-notebook\n",
    "# Resultado em microsegundos\n",
    "%timeit soma_um(100)"
   ]
  },
  {
   "cell_type": "code",
   "execution_count": 10,
   "metadata": {},
   "outputs": [
    {
     "name": "stdout",
     "output_type": "stream",
     "text": [
      "168 ns ± 10.6 ns per loop (mean ± std. dev. of 7 runs, 10000000 loops each)\n"
     ]
    }
   ],
   "source": [
    "%timeit soma_dois(100)\n",
    "# ordem em nanosegundos por loop"
   ]
  },
  {
   "cell_type": "markdown",
   "metadata": {},
   "source": [
    "**MICRO** = 10^-6\n",
    "\n",
    "**NANO** = 10^-9\n",
    "\n",
    "Quanto menor o número, melhor o desempenho do nosso algoritmo\n",
    "\n",
    "**Importante**\n",
    "\n",
    "- Não podemos simplesmente depender em tempo de execução porque a maioria dos computadores são diferentes e alguns são mais rápidos do que outros\n",
    "- Para que nossa avaliação seja independente do Hardware, precisamos de **Big O**"
   ]
  },
  {
   "cell_type": "markdown",
   "metadata": {},
   "source": [
    "# Big O\n",
    "\n",
    "Com Big O nós podemos objetivamente comparar a eficiência de algoritmos ao compararmos o número de atribuições que cada algoritmo faz.\n",
    "\n",
    "A função **soma_um** irá criar uma atribuição n+1 vezes, podemos fazer essa observação baseado na função range. Isso significa que ele irá atribuir a variável **soma_final** n+1 vezes. Nós podemos então dizer que para um problema de tamanho n (nesse caso apenas um número n) essa função tomará n+1 passos\n",
    "\n",
    "Essa notação n nos permite comparar soluções e algoritmos relativos ao tamanho do problema, uma vez que soma_um(10) e soma_um(100000) podem tomar diferentes tempos para rodar, porém utilizando o mesmo algoritmo. Nós também podemos perceber que ao n crescer para um número muito grande, o +1 não terá muito efeito. Sendo assim, vamos começar discutindo como construir uma sintáxe para essa notação.\n",
    "\n",
    "Notação **Big-O** descreve quão rápido o tempo de execução irá aumentar relativo ao input ao ele crescer arbitrariamente grande.\n",
    "\n",
    "## Quão bem o algoritmo escala ao crescerem os dados?\n",
    "\n",
    "Lembrando, nós desejamos comparar quão rápido o tempo de execução irá crescer, não comparar tempo de execução exatos, uma vez que estes podem variar de acordo com o hardware.\n",
    "\n",
    "Uma vez que nós queremos comparar para um variedade de tamanhos de input, nós estamos apenas preocupados com o crescimento do tempo de execução relativo ao input, é por isso que utilizamos essa notação.\n",
    "\n",
    "Ao n se tornar arbitrariamente grande nós apenas nos preocupamos sobre os termos que irão crescer mais rápido ao n se tornar maior, nesse ponto, Análise Big-O também é conhecido como análise asimtótica.\n",
    "\n",
    "Em Matemática, análise asimtótica = **descrever o comportamento limite**\n",
    "\n",
    "- Qual parte do algoritmo tem o MAIOR efeito na resposta final, qual parte do algoritmo é o real gargalo, qual parte é o fator limite.\n",
    "- Para a sintaxe **soma_um()** pode ser dito como **O(n)** uma vez que se tempo de execução cresce linearmente com o tamanho de input"
   ]
  },
  {
   "cell_type": "code",
   "execution_count": 11,
   "metadata": {},
   "outputs": [
    {
     "data": {
      "text/plain": [
       "84"
      ]
     },
     "execution_count": 11,
     "metadata": {},
     "output_type": "execute_result"
    }
   ],
   "source": [
    "def BigO(n):\n",
    "    return 45*n**3 + 20*n**2 + 19\n",
    "BigO(1)"
   ]
  },
  {
   "cell_type": "code",
   "execution_count": 13,
   "metadata": {},
   "outputs": [
    {
     "data": {
      "text/plain": [
       "459"
      ]
     },
     "execution_count": 13,
     "metadata": {},
     "output_type": "execute_result"
    }
   ],
   "source": [
    "BigO(2)\n",
    "# Perceba que 19 não irá escalar ou será um fator limite"
   ]
  },
  {
   "cell_type": "code",
   "execution_count": 14,
   "metadata": {},
   "outputs": [
    {
     "data": {
      "text/plain": [
       "47019"
      ]
     },
     "execution_count": 14,
     "metadata": {},
     "output_type": "execute_result"
    }
   ],
   "source": [
    "BigO(10)"
   ]
  },
  {
   "cell_type": "markdown",
   "metadata": {},
   "source": [
    "- Podemos perceber que 19 não possui mais um peso relevante\n",
    "- O 20n**2 nesse caso é 2000\n",
    "- O 45n**3 nesse caso é 45000\n",
    "\n",
    "A parte desse algoritmo que realmente está ligado com a resposta final ao escalarem os dados não será 45, mas sim n**3. Então podemos dizer que ele é de ordem n^3\n",
    "\n",
    "# Gráfico Big O\n",
    "\n",
    "![img](https://i.imgur.com/EzN9jw6.png)\n",
    "\n",
    "| Big-O         | Nome        |\n",
    "| ------------- | ------      |\n",
    "| 1             | Constante   |\n",
    "| log(n)        | Logarítmico |\n",
    "| n             | Linear      |\n",
    "| n log(n)      | Log Linear  |\n",
    "| n^2           | Quadrático  |\n",
    "| n^3           | Cúbico      |\n",
    "| 2^n           | Exponencial |\n",
    "\n",
    "| Notação       | Nome        |\n",
    "| ------------- | ------      |\n",
    "| O(1)             | Constante   |\n",
    "| O(log log n)        | Logarítmico dobrado |\n",
    "| O(log n)             | Logarítmico      |\n",
    "| O(n^c), 0 < c < 1      | potência fatorial  |\n",
    "| O(n)           | Linear  |\n",
    "| O(n log * n)           | n log-star n      |\n",
    "| O(n log n) = O(log n!)           | Linearítmico, Log Linear |\n",
    "| O(n^2)           | Quadrático |\n",
    "| O(n^c), c > 1           | Polinomial |\n",
    "| O(c^n), c > 1           | Exponencial |\n",
    "| O(n!)           | Fatorial |"
   ]
  },
  {
   "cell_type": "code",
   "execution_count": 18,
   "metadata": {},
   "outputs": [
    {
     "data": {
      "text/plain": [
       "Text(0.5, 0, 'n')"
      ]
     },
     "execution_count": 18,
     "metadata": {},
     "output_type": "execute_result"
    },
    {
     "data": {
      "image/png": "[encoded data removed]",
      "text/plain": [
       "<Figure size 864x720 with 1 Axes>"
      ]
     },
     "metadata": {
      "needs_background": "light"
     },
     "output_type": "display_data"
    }
   ],
   "source": [
    "from math import log\n",
    "import numpy as np\n",
    "import matplotlib.pyplot as plt\n",
    "%matplotlib inline\n",
    "\n",
    "# Setamos as comparações em tempo de execução\n",
    "n = np.linspace(1,10)\n",
    "rotulos = ['Constante', 'Logarítmico', 'Linear', 'Log Linear', 'Quadrático', 'Cúbico', 'Exponencial']\n",
    "big_o = [np.ones(n.shape), np.log(n), n, n*np.log(n), n**2, n**3, 2**n]\n",
    "\n",
    "# Plotagem\n",
    "plt.figure(figsize=(12,10))\n",
    "plt.ylim(0,50)\n",
    "\n",
    "for i in range(len(big_o)):\n",
    "    plt.plot(n,big_o[i],label=rotulos[i])\n",
    "\n",
    "plt.legend(loc=0)\n",
    "plt.ylabel('Tempo de execução relativo')\n",
    "plt.xlabel('n')"
   ]
  },
  {
   "cell_type": "markdown",
   "metadata": {},
   "source": [
    "Claramente nosso objetivo é escolher um algoritmo que esteja distante de qualquer comportamento quadrático, cúbico e exponencial"
   ]
  },
  {
   "cell_type": "markdown",
   "metadata": {},
   "source": [
    "# Exemplos Big O\n",
    "\n",
    "## O(1) Constante"
   ]
  },
  {
   "cell_type": "code",
   "execution_count": 20,
   "metadata": {},
   "outputs": [
    {
     "name": "stdout",
     "output_type": "stream",
     "text": [
      "1\n"
     ]
    }
   ],
   "source": [
    "def funcao_constante(valores):\n",
    "    # Imprime o primeiro elemento de uma lista de valores\n",
    "    print(valores[0])\n",
    "\n",
    "funcao_constante([1,2,3,4,5,6])"
   ]
  },
  {
   "cell_type": "markdown",
   "metadata": {},
   "source": [
    "Não importa quão grande a lista se torne, a função/algoritmo irá apenas pegar o valor indexado na posição 0 da lista\n",
    "\n",
    "## O(n) Linear"
   ]
  },
  {
   "cell_type": "code",
   "execution_count": 22,
   "metadata": {},
   "outputs": [
    {
     "name": "stdout",
     "output_type": "stream",
     "text": [
      "1\n",
      "2\n",
      "3\n",
      "4\n",
      "5\n"
     ]
    }
   ],
   "source": [
    "def funcao_linear(lista):\n",
    "    # Recebe uma lista e imprime todos os valores\n",
    "    for valores in lista:\n",
    "        print(valores)\n",
    "\n",
    "funcao_linear([1,2,3,4,5]) # O crescimento da lista tem um impacto no desempenho"
   ]
  },
  {
   "cell_type": "markdown",
   "metadata": {},
   "source": [
    "Cada valor da lista será impresso ao passar pelo for, então ao crescer a lista, cresce o Big O, então podemos dizer que esse algoritmo irá escalar linearmente com n.\n",
    "\n",
    "## O(n^2) Quadrático"
   ]
  },
  {
   "cell_type": "code",
   "execution_count": 3,
   "metadata": {},
   "outputs": [
    {
     "name": "stdout",
     "output_type": "stream",
     "text": [
      "1 1\n",
      "1 2\n",
      "1 3\n",
      "2 1\n",
      "2 2\n",
      "2 3\n",
      "3 1\n",
      "3 2\n",
      "3 3\n"
     ]
    }
   ],
   "source": [
    "def funcao_quadratica(lista):\n",
    "    # Imprime pares para cada elemento na lista\n",
    "    for item_1 in lista:\n",
    "        for item_2 in lista:\n",
    "            print(item_1,item_2)\n",
    "lista = [1,2,3]\n",
    "funcao_quadratica(lista)"
   ]
  },
  {
   "cell_type": "markdown",
   "metadata": {},
   "source": [
    "- Dois loops aninhados\n",
    "- Para uma lista de n itens, nós teremos de executar n operações para cada item na lista! Isso significa em total que iremos executar n vezes n atribuições, ou n^2. Então uma lista com 10 itens terá 10^2 ou 100 operações. Você pode perceber quão perigoso isso pode se tornar para inputs muito grandes! É por isso que a **Notação Big O** é tão importante para entendermos.\n",
    "- Então, baseado no exemplo: o input de 3 nos dá 9 iterações de output\n",
    "\n",
    "## Calculando a escala de Big O\n",
    "\n",
    "Termos insignificantes são desconsiderados na notação Big O\n",
    "\n",
    "Quando se trata de Notação Big O nós apenas nos preocupamos com os termos mais significantes, lembre que ao crescer o input e ele se tornar maior apenas os termos que crescem com maior rapidez terão importância/relevância.\n",
    "\n",
    "Por exemplo, tomar o limite a respeito da infinidade"
   ]
  },
  {
   "cell_type": "code",
   "execution_count": 4,
   "metadata": {},
   "outputs": [
    {
     "name": "stdout",
     "output_type": "stream",
     "text": [
      "1\n",
      "2\n",
      "3\n"
     ]
    }
   ],
   "source": [
    "def imprima_uma_vez(lista):\n",
    "    # Imprime todos os itens uma vez\n",
    "    for valores in lista:\n",
    "        print(valores)\n",
    "\n",
    "imprima_uma_vez(lista)\n",
    "\n",
    "# É possível perceber como esse crescimento é linear em relação ao input?\n",
    "# O(n)"
   ]
  },
  {
   "cell_type": "code",
   "execution_count": 5,
   "metadata": {},
   "outputs": [
    {
     "name": "stdout",
     "output_type": "stream",
     "text": [
      "1\n",
      "2\n",
      "3\n",
      "1\n",
      "2\n",
      "3\n",
      "1\n",
      "2\n",
      "3\n"
     ]
    }
   ],
   "source": [
    "def imprima_tres_vezes(lista):\n",
    "    # Imprime todos os itens três vezes\n",
    "    for valores in lista:\n",
    "        print(valores)\n",
    "    \n",
    "    for valores in lista:\n",
    "        print(valores)\n",
    "        \n",
    "    for valores in lista:\n",
    "        print(valores)\n",
    "\n",
    "imprima_tres_vezes(lista)"
   ]
  },
  {
   "cell_type": "markdown",
   "metadata": {},
   "source": [
    "Este algoritmo irá executar 3 vezes para cada n, sendo assim ele se torna de ordem 3(n). Continuando assim, linear. Mais importante, 3(infinidade) não é realmente diferente de (infinidade), sendo assim podemos abandonar as constantes insignificantes.\n",
    "\n",
    "Podemos então dizer que este algoritmo é O(n)"
   ]
  },
  {
   "cell_type": "code",
   "execution_count": 6,
   "metadata": {},
   "outputs": [],
   "source": [
    "def computacao(lista):\n",
    "    # Essa função imprime o primeiro item O(1), sendo assim ela é constante\n",
    "    # Depois ela imprime o primeiro 1/2 da lista O(n/2)\n",
    "    # Depois ela imprime uma string 10 vezes O(10), sendo assim constante\n",
    "    print(lista[0])\n",
    "    \n",
    "    ponto_medio = len(lista)//2\n",
    "    \n",
    "    for valores in lista[:ponto_medio]:\n",
    "        print(valores)\n",
    "    \n",
    "    for x in range(10):\n",
    "        print('numero')"
   ]
  },
  {
   "cell_type": "code",
   "execution_count": 7,
   "metadata": {},
   "outputs": [
    {
     "name": "stdout",
     "output_type": "stream",
     "text": [
      "1\n",
      "1\n",
      "2\n",
      "3\n",
      "4\n",
      "5\n",
      "6\n",
      "7\n",
      "numero\n",
      "numero\n",
      "numero\n",
      "numero\n",
      "numero\n",
      "numero\n",
      "numero\n",
      "numero\n",
      "numero\n",
      "numero\n"
     ]
    }
   ],
   "source": [
    "lista = [1,2,3,4,5,6,7,8,9,10,11,12,13,14,15]\n",
    "computacao(lista)"
   ]
  },
  {
   "cell_type": "markdown",
   "metadata": {},
   "source": [
    "## O(1 + n/2 + 10)\n",
    "\n",
    "Ao n se tornar maior e maior (escalar) nós podemos facilmente percerber como o 1 e o 10 começam a se tornar irrelevantes e posteriormente o //2 também começará a não ter efeito.\n",
    "\n",
    "Podemos então concluir que esse algoritmo é de ordem O(n)"
   ]
  },
  {
   "cell_type": "markdown",
   "metadata": {},
   "source": [
    "# Pior Caso vs Melhor Caso\n",
    "\n",
    "Muitas vezes nós estamos apenas preocupados com o pior possível caso de um algoritmo. É importante termos em mente que os cenários de pior caso e o melhor caso podem ser completamente diferentes em questão de tempo Big-O."
   ]
  },
  {
   "cell_type": "code",
   "execution_count": 8,
   "metadata": {},
   "outputs": [],
   "source": [
    "def matcher(lista,match):\n",
    "    # Dada uma lista chamada lista, retorna um booelano indicando se determinado item está presente na lista\n",
    "    for item in lista:\n",
    "        if item == match:\n",
    "            return True\n",
    "    return False"
   ]
  },
  {
   "cell_type": "code",
   "execution_count": 9,
   "metadata": {},
   "outputs": [
    {
     "data": {
      "text/plain": [
       "[1, 2, 3, 4, 5, 6, 7, 8, 9, 10, 11, 12, 13, 14, 15]"
      ]
     },
     "execution_count": 9,
     "metadata": {},
     "output_type": "execute_result"
    }
   ],
   "source": [
    "lista"
   ]
  },
  {
   "cell_type": "code",
   "execution_count": 12,
   "metadata": {},
   "outputs": [
    {
     "data": {
      "text/plain": [
       "True"
      ]
     },
     "execution_count": 12,
     "metadata": {},
     "output_type": "execute_result"
    }
   ],
   "source": [
    "matcher(lista,1) # Esse é o melhor caso, pois o item buscado está no índice 0. O(1) o melhor caso se torna constante"
   ]
  },
  {
   "cell_type": "code",
   "execution_count": 11,
   "metadata": {},
   "outputs": [
    {
     "data": {
      "text/plain": [
       "False"
      ]
     },
     "execution_count": 11,
     "metadata": {},
     "output_type": "execute_result"
    }
   ],
   "source": [
    "matcher(lista,25)# Esse é o pior caso, a lista inteira deve ser vasculhada, n elementos. O(n) o pior caso se torna linear"
   ]
  },
  {
   "cell_type": "markdown",
   "metadata": {},
   "source": [
    "# Complexidade do Espaço\n",
    "\n",
    "Também interesse com a quantidade de memória/espaço que um algoritmo utiliza. A notação de complexidade de espaço é a mesma, mas ao invés de checar operações de tempo, nós checamos o tamanho de alocação de memória."
   ]
  },
  {
   "cell_type": "code",
   "execution_count": 13,
   "metadata": {},
   "outputs": [
    {
     "name": "stdout",
     "output_type": "stream",
     "text": [
      "Memoria!\n",
      "Memoria!\n",
      "Memoria!\n",
      "Memoria!\n",
      "Memoria!\n",
      "Memoria!\n",
      "Memoria!\n",
      "Memoria!\n",
      "Memoria!\n",
      "Memoria!\n"
     ]
    }
   ],
   "source": [
    "def memoria(n=10):\n",
    "    # Imprime \"Hello world!\" n vezes\n",
    "    for x in range(n): # Complexidade de tempo O(n)\n",
    "        print(\"Memoria!\") # Complexidade de espaço O(1)\n",
    "\n",
    "memoria(10)"
   ]
  },
  {
   "cell_type": "markdown",
   "metadata": {},
   "source": [
    "O(n) para a complexidade de tempo, mas e a respeito da complexidade de espaço?\n",
    "\n",
    "Em memória ele não necessita guardar 10 versões  de \"Memoria!\", ele apenas precisa guardar uma string. O(1)"
   ]
  },
  {
   "cell_type": "markdown",
   "metadata": {},
   "source": [
    "# Sequências de Array\n",
    "\n",
    "LISTA [ ]\n",
    "\n",
    "TUPLA ( )\n",
    "\n",
    "STRING (\" \") \n",
    "\n",
    "Todos suportam indexação"
   ]
  },
  {
   "cell_type": "markdown",
   "metadata": {},
   "source": [
    "Para entendermos melhor como os arrays funcionam é importante entendermos a arquitetura de computadores em baixo nível\n",
    "\n",
    "- Memória é armazenada em **bits**\n",
    "- 8 **bits** = 1 **byte**\n",
    "- Endereço de memória para cada **byte**\n",
    "\n",
    "![img](https://i.imgur.com/iMpZnPt.jpg)\n",
    "\n",
    "Guardado e recuperado em O(1) tempo constante.\n",
    "\n",
    "Python representa carácteres UNICODE com 16 bits (2 bytes)\n",
    "\n",
    "![img](https://i.imgur.com/BkMeUyi.png)\n",
    "\n",
    "Nesse caso, SAMPLE possui 6 carácteres, ou seja, 12 bytes\n",
    "\n",
    "- ARRAY de 6 carácteres\n",
    "- Cada carácter ocupa uma célula\n",
    "- Índice descreve localização\n",
    "\n",
    "Apenas para ilustrar o conhecimento, pois iremos utilizar abstrações de alto nível"
   ]
  },
  {
   "cell_type": "markdown",
   "metadata": {},
   "source": [
    "# Listas e Referências\n",
    "\n",
    "Criada uma lista chamada de primes, guardando números primos.\n",
    "\n",
    "Se for criado um novo objeto **temp**, e sendo ele uma referência a uma porção da lista prime, então foi criado uma nova lista, porém referenciando uma localização de índice de saída.\n",
    "\n",
    "![img](https://i.imgur.com/m8TV3eo.png)\n",
    "\n",
    "Se desejarmos alterar uma atribuição indexada na nova lista **temp**...\n",
    "\n",
    "temp[2] = 15\n",
    "\n",
    "A lista original não é alterada, a nova posição indexada apenas aponta para um novo e diferente objeto.\n",
    "\n",
    "Importante Lembrar: novas listas criam uma cópia superficial, significa que você está apenas alterando/criando seus ponteiros e não duplicando objetos em memória.\n",
    "\n",
    "Muito do que estamos fazendo é manipular referências e chamadas, não os objetos em si."
   ]
  },
  {
   "cell_type": "code",
   "execution_count": 16,
   "metadata": {},
   "outputs": [
    {
     "name": "stdout",
     "output_type": "stream",
     "text": [
      "Comprimento:   0;  Tamanho em Bytes:   64\n",
      "Comprimento:   1;  Tamanho em Bytes:   96\n",
      "Comprimento:   2;  Tamanho em Bytes:   96\n",
      "Comprimento:   3;  Tamanho em Bytes:   96\n",
      "Comprimento:   4;  Tamanho em Bytes:   96\n",
      "Comprimento:   5;  Tamanho em Bytes:  128\n",
      "Comprimento:   6;  Tamanho em Bytes:  128\n",
      "Comprimento:   7;  Tamanho em Bytes:  128\n",
      "Comprimento:   8;  Tamanho em Bytes:  128\n",
      "Comprimento:   9;  Tamanho em Bytes:  192\n"
     ]
    }
   ],
   "source": [
    "import sys\n",
    "\n",
    "n = 10\n",
    "dados = []\n",
    "\n",
    "for i in range(n):\n",
    "    a = len(dados)\n",
    "    b = sys.getsizeof(dados)\n",
    "    print('Comprimento: {0:3d};  Tamanho em Bytes: {1:4d}'.format(a,b))\n",
    "    dados.append(n)"
   ]
  },
  {
   "cell_type": "markdown",
   "metadata": {},
   "source": [
    "# Arrays Dinâmicos\n",
    "\n",
    "## Problema\n",
    "\n",
    "Dadas duas strings, cheque-as para ver se elas são anagramas. Um anagrama é quando as duas strings podem ser reescritas usando exatamente as mesmas letras (sendo assim você pode apenas reorganizar as letras para obter uma frase ou palavra diferente)\n",
    "\n",
    "Por exemplo:\n",
    "\n",
    "\"Pedro\" é um anagrama de \"Poder\"\n",
    "\n",
    "\"Client Eastwood\" é um anagrama de \"old west action\"\n",
    "\n",
    "Nota: Ignore espaços e capitalização. Sendo assim, \"d go\" é um anagrama de \"God\" e \"dog\" um anagrama de \"o d g\"."
   ]
  },
  {
   "cell_type": "code",
   "execution_count": 17,
   "metadata": {},
   "outputs": [],
   "source": [
    "def anagrama(string1,string2):\n",
    "    # Remove espaços e letras lower case\n",
    "    string1 = string1.replace(' ','').lower()\n",
    "    string2 = string2.replace(' ','').lower()\n",
    "    \n",
    "    # Retorna um booleano para a match sortida\n",
    "    return sorted(string1) == sorted(string2)"
   ]
  },
  {
   "cell_type": "code",
   "execution_count": 18,
   "metadata": {},
   "outputs": [
    {
     "data": {
      "text/plain": [
       "True"
      ]
     },
     "execution_count": 18,
     "metadata": {},
     "output_type": "execute_result"
    }
   ],
   "source": [
    "anagrama('pedro','poder')"
   ]
  },
  {
   "cell_type": "code",
   "execution_count": 19,
   "metadata": {},
   "outputs": [
    {
     "data": {
      "text/plain": [
       "False"
      ]
     },
     "execution_count": 19,
     "metadata": {},
     "output_type": "execute_result"
    }
   ],
   "source": [
    "anagrama('teste','peste')"
   ]
  },
  {
   "cell_type": "code",
   "execution_count": 20,
   "metadata": {},
   "outputs": [
    {
     "data": {
      "text/plain": [
       "True"
      ]
     },
     "execution_count": 20,
     "metadata": {},
     "output_type": "execute_result"
    }
   ],
   "source": [
    "anagrama('gol','log')"
   ]
  },
  {
   "cell_type": "markdown",
   "metadata": {},
   "source": [
    "Esta solução não é otimizada, uma vez que estamos utilizando um módulo de Python. \n",
    "\n",
    "Vamos tentar agora com contadores e dicionários."
   ]
  },
  {
   "cell_type": "code",
   "execution_count": 25,
   "metadata": {},
   "outputs": [
    {
     "name": "stdout",
     "output_type": "stream",
     "text": [
      "True\n",
      "False\n",
      "True\n"
     ]
    }
   ],
   "source": [
    "def anagrama_dois(string1,string2):\n",
    "    string1 = string1.replace(' ','').lower()\n",
    "    string2 = string2.replace(' ','').lower()\n",
    "    \n",
    "    # Checa se há o mesmo número de letras\n",
    "    if len(string1) != len(string2):\n",
    "        return False\n",
    "    \n",
    "    # Conta a frequência de cada letra\n",
    "    contador = {}\n",
    "    \n",
    "    for letra in string1: # Para cada letra na primeira string\n",
    "        if letra in contador: # Se a letra já está em nosso dicionário, então\n",
    "            contador[letra] += 1 # Adiciona 1 para a chave letra do dicionário\n",
    "        else:\n",
    "            contador[letra] = 1\n",
    "    \n",
    "    # Faz o reverso para a segunda string\n",
    "    for letra in string2:\n",
    "        if letra in contador:\n",
    "            contador[letra] -= 1\n",
    "        else:\n",
    "            contador[letra] = 1\n",
    "    \n",
    "    for k in contador: # Percorremos o contador\n",
    "        if contador[k] != 0: # Caso o contador nos retorne um valor diferente de 0, indica que não obtivemos um anagrama\n",
    "            return False\n",
    "    \n",
    "    return True\n",
    "\n",
    "x = anagrama_dois('Clint Eastwood', 'old WEST action')\n",
    "y = anagrama_dois('Testando anagrama dois', 'Testando o anagrama dois')\n",
    "z = anagrama_dois('bolo', 'lobo')\n",
    "print(x)\n",
    "print(y)\n",
    "print(z)"
   ]
  }
 ],
 "metadata": {
  "kernelspec": {
   "display_name": "Python 3",
   "language": "python",
   "name": "python3"
  },
  "language_info": {
   "codemirror_mode": {
    "name": "ipython",
    "version": 3
   },
   "file_extension": ".py",
   "mimetype": "text/x-python",
   "name": "python",
   "nbconvert_exporter": "python",
   "pygments_lexer": "ipython3",
   "version": "3.7.1"
  }
 },
 "nbformat": 4,
 "nbformat_minor": 2
}
