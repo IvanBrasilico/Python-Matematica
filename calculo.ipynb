{
 "cells": [
  {
   "cell_type": "markdown",
   "metadata": {},
   "source": [
    "# Teorema Fundamental do Cálculo com SymPy\n",
    "\n",
    "[Um Sistema Algébrico Computacional](https://pt.wikipedia.org/wiki/Sistema_alg%C3%A9brico_computacional) é um programa que permite a computação de expressões matemáticas. Em contraste à uma simples calculadora, o [SAC](https://pt.wikipedia.org/wiki/Sistema_alg%C3%A9brico_computacional) resolve os problemas não de forma numérica, mas usando expressões simbólicas, como variáveis, funções, polinômios e matrizes.\n",
    "\n",
    "Todo [SAC](https://pt.wikipedia.org/wiki/Sistema_alg%C3%A9brico_computacional) tem essencialmente a mesma funcionalidade. Isso significa que se você entender como um deles funciona, você será capaz de usar todos os outros também. Sistemas comerciais conhecidos incluem Maple, MATLAB e Mathematica, existem também os gratuitos e livres, podemos citar, Octave, Magma e [SymPy](https://www.sympy.org/en/index.html) (no qual abordaremos).\n",
    "\n",
    "Em um [SAC](https://pt.wikipedia.org/wiki/Sistema_alg%C3%A9brico_computacional) simbólico, números e operações são expressados simbolicamente, sendo assim as respostas obtidas são exatas. Por exemplo o número √2 é representado em SymPy como o objeto Pow(2, 1/2). Em um Sistema Algébrico Numérico como Octave o número √2 é representado como a aproximação 1.41421356237310 (ponto flutuante). Para muitos casos está certo, mas essas aproximações podem nos trazer problemas: float(sqrt(2)) * float(sqrt(2)) = 2.00000000000000004 ≠ 2. Porque SymPy usa a representação exata, tais problemas não aparecerão! Pow(2,1/2) * Pow(2,1/2) = 2"
   ]
  },
  {
   "cell_type": "markdown",
   "metadata": {},
   "source": [
    "## Nós podemos utilizar SymPy diretamente do interpretador Python"
   ]
  },
  {
   "cell_type": "code",
   "execution_count": 109,
   "metadata": {},
   "outputs": [],
   "source": [
    "from sympy import *"
   ]
  },
  {
   "cell_type": "markdown",
   "metadata": {},
   "source": [
    "Dessa forma importamos todos os métodos e variáveis de SymPy. Agora vamos começar aprendendo sobre os objetos e operações básicas de SymPy. Por exemplos, nós vamos aprender o que significa resolver uma equação, expandir uma expressão e fatorar polinômios.\n",
    "\n",
    "A respeito do número 1/7"
   ]
  },
  {
   "cell_type": "code",
   "execution_count": 5,
   "metadata": {
    "scrolled": true
   },
   "outputs": [
    {
     "data": {
      "text/plain": [
       "0.14285714285714285"
      ]
     },
     "execution_count": 5,
     "metadata": {},
     "output_type": "execute_result"
    }
   ],
   "source": [
    "1.0/7"
   ]
  },
  {
   "cell_type": "markdown",
   "metadata": {},
   "source": [
    "A representação do ponto flutuante á apenas válida para no máximo 16 decimais, pois 1/7 é infinitamente longo.\n",
    "Para obter uma representação exata nós podemos simplificar a expressão usando a função **S()**."
   ]
  },
  {
   "cell_type": "code",
   "execution_count": 6,
   "metadata": {},
   "outputs": [
    {
     "data": {
      "text/plain": [
       "1/7"
      ]
     },
     "execution_count": 6,
     "metadata": {},
     "output_type": "execute_result"
    }
   ],
   "source": [
    "S(\"1/7\")"
   ]
  },
  {
   "cell_type": "markdown",
   "metadata": {},
   "source": [
    "Assim como na vida real, quando trabalhamos em matemática ou física, é melhor que possamos trabalhar simbolicamente até o fim, antes de computarmos uma resposta numérica, para assim evitarmos erros de arredondamento. Em SymPy é interessante usarmos os objetos SymPy assim que possível e então obter uma aproximação numérica do objeto SymPy final, como um ponto flutuante, para isso utilizamos o método **.evalf()**:"
   ]
  },
  {
   "cell_type": "code",
   "execution_count": 7,
   "metadata": {},
   "outputs": [
    {
     "data": {
      "text/plain": [
       "pi"
      ]
     },
     "execution_count": 7,
     "metadata": {},
     "output_type": "execute_result"
    }
   ],
   "source": [
    "pi"
   ]
  },
  {
   "cell_type": "code",
   "execution_count": 8,
   "metadata": {},
   "outputs": [
    {
     "data": {
      "text/plain": [
       "3.14159265358979"
      ]
     },
     "execution_count": 8,
     "metadata": {},
     "output_type": "execute_result"
    }
   ],
   "source": [
    "pi.evalf()"
   ]
  },
  {
   "cell_type": "markdown",
   "metadata": {},
   "source": [
    "Também podemos utilizar o método global do SymPy **N()** para obtermos valores numéricos. Ao fornecermos um valor inteiro como argumento, nós podemos facilmente alterar o número de dígitos de precisão que as aproximações devem retornar"
   ]
  },
  {
   "cell_type": "code",
   "execution_count": 9,
   "metadata": {},
   "outputs": [
    {
     "data": {
      "text/plain": [
       "3.14159265358979323846264338327950288419716939937510582097494459230781640628620899862803482534211706798214808651328230664709384460955058223172535940812848111745028410270193852110555964462294895493038196442881097566593344612847564823378678316527120190914564856692346034861045432664821339360726024914127"
      ]
     },
     "execution_count": 9,
     "metadata": {},
     "output_type": "execute_result"
    }
   ],
   "source": [
    "pi.n(300)"
   ]
  },
  {
   "cell_type": "markdown",
   "metadata": {},
   "source": [
    "Para definirmos um símbolo em SymPy é necessário utilizarmos o método **Symbol()**, assim poderemos trabalhar com ele em expressões"
   ]
  },
  {
   "cell_type": "code",
   "execution_count": 10,
   "metadata": {},
   "outputs": [
    {
     "data": {
      "text/plain": [
       "x + 2"
      ]
     },
     "execution_count": 10,
     "metadata": {},
     "output_type": "execute_result"
    }
   ],
   "source": [
    "x = Symbol(\"x\")\n",
    "x + 2"
   ]
  },
  {
   "cell_type": "markdown",
   "metadata": {},
   "source": [
    "O nome x é definido como um símbolo, sendo assim SymPy sabe que x + 2 é uma expressão. Também podemos usar uma lista de símbolos com a seguinte notação:"
   ]
  },
  {
   "cell_type": "code",
   "execution_count": 11,
   "metadata": {},
   "outputs": [],
   "source": [
    "x0, x1, x2, x3 = symbols('x0:4')"
   ]
  },
  {
   "cell_type": "markdown",
   "metadata": {},
   "source": [
    "Nós podemos basicamente nomear nossas variáveis da maneira que desejarmos, mas é interessante evitarmos sobrescrever nomes construídos em Sympy, como por exemplo Q, C, O, S, I e E. I é a unidade imaginária de um número, E é a base do logaritmo natural...\n",
    "\n",
    "O underscore _ é uma variável especial que contém o resultado do último valor impresso. É análogo ao botão ans em muitas calculadoras, em outros Sistemas Algébricos Computacionais é normalmente utilizado o %."
   ]
  },
  {
   "cell_type": "code",
   "execution_count": 12,
   "metadata": {},
   "outputs": [
    {
     "data": {
      "text/plain": [
       "6"
      ]
     },
     "execution_count": 12,
     "metadata": {},
     "output_type": "execute_result"
    }
   ],
   "source": [
    "3+3"
   ]
  },
  {
   "cell_type": "code",
   "execution_count": 13,
   "metadata": {},
   "outputs": [
    {
     "data": {
      "text/plain": [
       "60"
      ]
     },
     "execution_count": 13,
     "metadata": {},
     "output_type": "execute_result"
    }
   ],
   "source": [
    "_*10"
   ]
  },
  {
   "cell_type": "markdown",
   "metadata": {},
   "source": [
    "Podemos definir uma expressão com a combinação de símbolos com operações matemáticas básicas e outras funções:"
   ]
  },
  {
   "cell_type": "code",
   "execution_count": 14,
   "metadata": {},
   "outputs": [],
   "source": [
    "expressao = 2*x + 3*x - sin(x) - 3*x + 42"
   ]
  },
  {
   "cell_type": "code",
   "execution_count": 15,
   "metadata": {},
   "outputs": [
    {
     "data": {
      "text/plain": [
       "2*x - sin(x) + 42"
      ]
     },
     "execution_count": 15,
     "metadata": {},
     "output_type": "execute_result"
    }
   ],
   "source": [
    "simplify(expressao)"
   ]
  },
  {
   "cell_type": "markdown",
   "metadata": {},
   "source": [
    "A função **simplify** pode ser utilizada em qualquer expressão para simplificá-la"
   ]
  },
  {
   "cell_type": "markdown",
   "metadata": {},
   "source": [
    "Outra operação matemática muito comum em expressões é mostrada no seguinte exemplo:"
   ]
  },
  {
   "cell_type": "code",
   "execution_count": 18,
   "metadata": {},
   "outputs": [
    {
     "data": {
      "text/plain": [
       "(x - 4)*(x + 2)"
      ]
     },
     "execution_count": 18,
     "metadata": {},
     "output_type": "execute_result"
    }
   ],
   "source": [
    "factor(x**2-2*x-8)"
   ]
  },
  {
   "cell_type": "markdown",
   "metadata": {},
   "source": [
    "O método **factor()** computa a fatoração de uma dada expressão"
   ]
  },
  {
   "cell_type": "code",
   "execution_count": 19,
   "metadata": {},
   "outputs": [
    {
     "data": {
      "text/plain": [
       "x**2 - 2*x - 8"
      ]
     },
     "execution_count": 19,
     "metadata": {},
     "output_type": "execute_result"
    }
   ],
   "source": [
    "expand((x-4)*(x+2))"
   ]
  },
  {
   "cell_type": "markdown",
   "metadata": {},
   "source": [
    "O método **expand()** é a operação \"inversa\" do fatorial e executa a expansão de uma expressão."
   ]
  },
  {
   "cell_type": "code",
   "execution_count": 25,
   "metadata": {},
   "outputs": [
    {
     "data": {
      "text/plain": [
       "a*b + x**2 + x*(a + b)"
      ]
     },
     "execution_count": 25,
     "metadata": {},
     "output_type": "execute_result"
    }
   ],
   "source": [
    "a, b = symbols(\"a b\")\n",
    "collect(x**2 + x*b + a*x + a*b, x)"
   ]
  },
  {
   "cell_type": "markdown",
   "metadata": {},
   "source": [
    "Com o método **collect()** nós podemos coletar os termos para diferentes potências de uma dada variável (neste exemplo utilizamos x) para uma expressão.\n",
    "\n",
    "Para substituirmos um dado valor em uma expressão, nós chamamos o método **subs()**, passando a ele um dicionário ({chave:valor})."
   ]
  },
  {
   "cell_type": "code",
   "execution_count": 30,
   "metadata": {},
   "outputs": [
    {
     "name": "stdout",
     "output_type": "stream",
     "text": [
      "sin(x) + cos(y)\n"
     ]
    }
   ],
   "source": [
    "y = Symbol(\"y\")\n",
    "expr = sin(x) + cos(y)\n",
    "print(expr)"
   ]
  },
  {
   "cell_type": "code",
   "execution_count": 31,
   "metadata": {},
   "outputs": [
    {
     "data": {
      "text/plain": [
       "cos(2) + sin(1)"
      ]
     },
     "execution_count": 31,
     "metadata": {},
     "output_type": "execute_result"
    }
   ],
   "source": [
    "expr.subs({x:1, y:2})"
   ]
  },
  {
   "cell_type": "code",
   "execution_count": 32,
   "metadata": {},
   "outputs": [
    {
     "data": {
      "text/plain": [
       "0.425324148260754"
      ]
     },
     "execution_count": 32,
     "metadata": {},
     "output_type": "execute_result"
    }
   ],
   "source": [
    "expr.subs({x:1, y:2}).n()"
   ]
  },
  {
   "cell_type": "markdown",
   "metadata": {},
   "source": [
    "A função **solve** talvez seja a ferramenta mais poderosa do SymPy, ela pode resolver praticamente qualquer equação.\n",
    "A função recebe dois argumentos: solve(expr, var). Por exemplo, vamos resolver a equação quadrática x² + 2x - 8 = 0"
   ]
  },
  {
   "cell_type": "code",
   "execution_count": 33,
   "metadata": {},
   "outputs": [
    {
     "data": {
      "text/plain": [
       "[-4, 2]"
      ]
     },
     "execution_count": 33,
     "metadata": {},
     "output_type": "execute_result"
    }
   ],
   "source": [
    "solve(x**2+2*x-8,x)"
   ]
  },
  {
   "cell_type": "markdown",
   "metadata": {},
   "source": [
    "O resultado é uma lista de soluções para x que satisfaz a equação acima.\n",
    "A melhor parte do **solve()** é que ele também funciona com expressões simbólicas.\n",
    "Por exemplo, vamos buscar a solução de ax² + bx + c = 0"
   ]
  },
  {
   "cell_type": "code",
   "execution_count": 35,
   "metadata": {},
   "outputs": [
    {
     "data": {
      "text/plain": [
       "[(-b + sqrt(-4*a*c + b**2))/(2*a), -(b + sqrt(-4*a*c + b**2))/(2*a)]"
      ]
     },
     "execution_count": 35,
     "metadata": {},
     "output_type": "execute_result"
    }
   ],
   "source": [
    "a, b, c = symbols('a b c')\n",
    "solve(a*x**2+b*x+c, x)"
   ]
  },
  {
   "cell_type": "markdown",
   "metadata": {},
   "source": [
    "Utilizamos os símbolos a, b e c para resolver a equação. Você deve reconhecer a solução da fórmula quadrática:\n",
    "\n",
    "\\begin{array}{*{20}c} {x = \\frac{{ - b \\pm \\sqrt {b^2 - 4ac} }}{{2a}}} & {{\\rm{quando}}} & {ax^2 + bx + c = 0} \\\\ \\end{array}"
   ]
  },
  {
   "cell_type": "markdown",
   "metadata": {},
   "source": [
    "Para resolvermos um sistema de equações, nós podemos alimentar a função **solve** com uma lista de equações e uma lista de termos desconhecidos que ele deve resolver a equação. Vamos tentar resolver para x e y o sistema de equações x + y = 3 e 3x -2y = 0"
   ]
  },
  {
   "cell_type": "code",
   "execution_count": 37,
   "metadata": {},
   "outputs": [
    {
     "data": {
      "text/plain": [
       "{x: 6/5, y: 9/5}"
      ]
     },
     "execution_count": 37,
     "metadata": {},
     "output_type": "execute_result"
    }
   ],
   "source": [
    "solve([x+y-3, 3*x-2*y],[x,y])"
   ]
  },
  {
   "cell_type": "markdown",
   "metadata": {},
   "source": [
    "Por padrão, SymPy não combinará ou separará expressões racionais. É necessário utilizarmos o método **together** para calcular simbolicamente a adição de frações."
   ]
  },
  {
   "cell_type": "code",
   "execution_count": 40,
   "metadata": {},
   "outputs": [
    {
     "data": {
      "text/plain": [
       "a/b + c/d"
      ]
     },
     "execution_count": 40,
     "metadata": {},
     "output_type": "execute_result"
    }
   ],
   "source": [
    "a, b, c, d = symbols(\"a b c d\")\n",
    "a/b + c/d"
   ]
  },
  {
   "cell_type": "code",
   "execution_count": 41,
   "metadata": {},
   "outputs": [
    {
     "data": {
      "text/plain": [
       "(a*d + b*c)/(b*d)"
      ]
     },
     "execution_count": 41,
     "metadata": {},
     "output_type": "execute_result"
    }
   ],
   "source": [
    "together(a/b+c/d)"
   ]
  },
  {
   "cell_type": "markdown",
   "metadata": {},
   "source": [
    "Se você tiver uma expressão racional e desejar dividir o numerador pelo denominador, use o método **apart**"
   ]
  },
  {
   "cell_type": "code",
   "execution_count": 42,
   "metadata": {},
   "outputs": [
    {
     "data": {
      "text/plain": [
       "x - 1 + 6/(x + 2)"
      ]
     },
     "execution_count": 42,
     "metadata": {},
     "output_type": "execute_result"
    }
   ],
   "source": [
    "apart((x**2+x+4)/(x+2))"
   ]
  },
  {
   "cell_type": "markdown",
   "metadata": {},
   "source": [
    "Vamos definir um polinômio $P$ com raízes em $x = 1$, $x = 2$ e $x = 3$"
   ]
  },
  {
   "cell_type": "code",
   "execution_count": 44,
   "metadata": {},
   "outputs": [
    {
     "name": "stdout",
     "output_type": "stream",
     "text": [
      "(x - 3)*(x - 2)*(x - 1)\n"
     ]
    }
   ],
   "source": [
    "P = (x-1)*(x-2)*(x-3)\n",
    "print(P)"
   ]
  },
  {
   "cell_type": "markdown",
   "metadata": {},
   "source": [
    "Para vermos a versão expandida do polinômio, chamaremos o método **expand**"
   ]
  },
  {
   "cell_type": "code",
   "execution_count": 45,
   "metadata": {},
   "outputs": [
    {
     "data": {
      "text/plain": [
       "x**3 - 6*x**2 + 11*x - 6"
      ]
     },
     "execution_count": 45,
     "metadata": {},
     "output_type": "execute_result"
    }
   ],
   "source": [
    "P.expand()"
   ]
  },
  {
   "cell_type": "markdown",
   "metadata": {},
   "source": [
    "Se nós começarmos com a forma expandida $P(x) = x³ - 6x² + 11x - 6$ nós podemos obter as raízes utilizando os métodos **factor** ou **simplify**"
   ]
  },
  {
   "cell_type": "code",
   "execution_count": 46,
   "metadata": {},
   "outputs": [
    {
     "data": {
      "text/plain": [
       "(x - 3)*(x - 2)*(x - 1)"
      ]
     },
     "execution_count": 46,
     "metadata": {},
     "output_type": "execute_result"
    }
   ],
   "source": [
    "P.factor()"
   ]
  },
  {
   "cell_type": "code",
   "execution_count": 47,
   "metadata": {},
   "outputs": [
    {
     "data": {
      "text/plain": [
       "(x - 3)*(x - 2)*(x - 1)"
      ]
     },
     "execution_count": 47,
     "metadata": {},
     "output_type": "execute_result"
    }
   ],
   "source": [
    "P.simplify()"
   ]
  },
  {
   "cell_type": "markdown",
   "metadata": {},
   "source": [
    "Lembre que as raízes do polinômio $P(x)$ são definidas como soluções para a equação $P(x) = 0$.\n",
    "Nós podemos usar a função **solve** para encontrarmos as raízes do polinômio"
   ]
  },
  {
   "cell_type": "code",
   "execution_count": 49,
   "metadata": {},
   "outputs": [
    {
     "data": {
      "text/plain": [
       "[1, 2, 3]"
      ]
     },
     "execution_count": 49,
     "metadata": {},
     "output_type": "execute_result"
    }
   ],
   "source": [
    "roots = solve(P,x)\n",
    "roots"
   ]
  },
  {
   "cell_type": "markdown",
   "metadata": {},
   "source": [
    "Vamos checar se $P$ é igual $(x-1)(x-2)(x-3)$"
   ]
  },
  {
   "cell_type": "code",
   "execution_count": 50,
   "metadata": {},
   "outputs": [
    {
     "data": {
      "text/plain": [
       "0"
      ]
     },
     "execution_count": 50,
     "metadata": {},
     "output_type": "execute_result"
    }
   ],
   "source": [
    "simplify(P - (x-roots[0])*(x-roots[1])*(x-roots[2]))"
   ]
  },
  {
   "cell_type": "markdown",
   "metadata": {},
   "source": [
    "As funções trigonométricas como seno e coseno recebem inputs em radianos. \n",
    "Para chamarmos elas usando argumentos em graus é necessário o fator de conversão \n",
    "$\\frac{{\\pi}}{{180}}$ ou utilizar **numpy.radians** ou **numpy.deg2rad** da biblioteca NumPy\n",
    "\n",
    "SymPy está ciente de diversas identidades trigonométricas"
   ]
  },
  {
   "cell_type": "code",
   "execution_count": 51,
   "metadata": {},
   "outputs": [
    {
     "data": {
      "text/plain": [
       "True"
      ]
     },
     "execution_count": 51,
     "metadata": {},
     "output_type": "execute_result"
    }
   ],
   "source": [
    "sin(x) == cos(x-pi/2)"
   ]
  },
  {
   "cell_type": "code",
   "execution_count": 115,
   "metadata": {},
   "outputs": [
    {
     "data": {
      "text/plain": [
       "sin(x + y)"
      ]
     },
     "execution_count": 115,
     "metadata": {},
     "output_type": "execute_result"
    }
   ],
   "source": [
    "simplify(sin(x)*cos(y) + cos(x)*sin(y))"
   ]
  },
  {
   "cell_type": "code",
   "execution_count": 112,
   "metadata": {},
   "outputs": [],
   "source": [
    "e = 2*sin(x)**2 + 2*cos(x)**2"
   ]
  },
  {
   "cell_type": "code",
   "execution_count": 55,
   "metadata": {},
   "outputs": [
    {
     "data": {
      "text/plain": [
       "2"
      ]
     },
     "execution_count": 55,
     "metadata": {},
     "output_type": "execute_result"
    }
   ],
   "source": [
    "trigsimp(e)"
   ]
  },
  {
   "cell_type": "code",
   "execution_count": 113,
   "metadata": {},
   "outputs": [
    {
     "data": {
      "text/plain": [
       "cos(4*x)/2 + 1/2"
      ]
     },
     "execution_count": 113,
     "metadata": {},
     "output_type": "execute_result"
    }
   ],
   "source": [
    "simplify(sin(x)**4 -2* cos(x)**2* sin (x)**2+ cos (x)**4)"
   ]
  },
  {
   "cell_type": "code",
   "execution_count": 59,
   "metadata": {},
   "outputs": [
    {
     "data": {
      "text/plain": [
       "2*sin(x)*cos(x)"
      ]
     },
     "execution_count": 59,
     "metadata": {},
     "output_type": "execute_result"
    }
   ],
   "source": [
    "expand_trig(sin (2* x ))"
   ]
  },
  {
   "cell_type": "markdown",
   "metadata": {},
   "source": [
    "Cálculo é o estudo das propriedades das funções. Aqui nós iremos aprender os métodos de SymPy para calcularmos limites, derivadas, integrais e somatórios.\n",
    "\n",
    "### Infinito"
   ]
  },
  {
   "cell_type": "markdown",
   "metadata": {},
   "source": [
    "O símbolo para o infinito em SymPy é denotado como dois o's em lowercase. SymPy sabe como tratar o infinito corretamente em expressões"
   ]
  },
  {
   "cell_type": "code",
   "execution_count": 65,
   "metadata": {},
   "outputs": [
    {
     "data": {
      "text/plain": [
       "oo"
      ]
     },
     "execution_count": 65,
     "metadata": {},
     "output_type": "execute_result"
    }
   ],
   "source": [
    "oo"
   ]
  },
  {
   "cell_type": "code",
   "execution_count": 66,
   "metadata": {},
   "outputs": [
    {
     "data": {
      "text/plain": [
       "oo"
      ]
     },
     "execution_count": 66,
     "metadata": {},
     "output_type": "execute_result"
    }
   ],
   "source": [
    "oo+1"
   ]
  },
  {
   "cell_type": "code",
   "execution_count": 67,
   "metadata": {},
   "outputs": [
    {
     "data": {
      "text/plain": [
       "True"
      ]
     },
     "execution_count": 67,
     "metadata": {},
     "output_type": "execute_result"
    }
   ],
   "source": [
    "5000 < oo"
   ]
  },
  {
   "cell_type": "code",
   "execution_count": 68,
   "metadata": {},
   "outputs": [
    {
     "data": {
      "text/plain": [
       "0"
      ]
     },
     "execution_count": 68,
     "metadata": {},
     "output_type": "execute_result"
    }
   ],
   "source": [
    "1/oo"
   ]
  },
  {
   "cell_type": "code",
   "execution_count": 69,
   "metadata": {},
   "outputs": [
    {
     "data": {
      "text/plain": [
       "True"
      ]
     },
     "execution_count": 69,
     "metadata": {},
     "output_type": "execute_result"
    }
   ],
   "source": [
    "oo > 9999999999999999"
   ]
  },
  {
   "cell_type": "markdown",
   "metadata": {},
   "source": [
    "Com limites nós podemos descrever, com precisão matemática, infinitas grandes quantidades, infinitas pequenas quantidades e procedimentos com infinitos passos. Por exemplo, o número **e** é definido como o limite:\n",
    "\n",
    "\\begin{equation} e \\equiv \\lim_{n\\to\\infty}\\left(1 + \\frac{{1}}{{n}}\\right)^n\\end{equation}"
   ]
  },
  {
   "cell_type": "code",
   "execution_count": 74,
   "metadata": {},
   "outputs": [
    {
     "data": {
      "text/plain": [
       "E"
      ]
     },
     "execution_count": 74,
     "metadata": {},
     "output_type": "execute_result"
    }
   ],
   "source": [
    "n = Symbol('n')\n",
    "limit((1+1/n)**n, n, oo)"
   ]
  },
  {
   "cell_type": "code",
   "execution_count": 75,
   "metadata": {},
   "outputs": [
    {
     "data": {
      "text/plain": [
       "2.71828182845905"
      ]
     },
     "execution_count": 75,
     "metadata": {},
     "output_type": "execute_result"
    }
   ],
   "source": [
    "E.evalf()"
   ]
  },
  {
   "cell_type": "markdown",
   "metadata": {},
   "source": [
    "Limites também são úteis para descrever comportamento asimtótico da função.\n",
    "\n",
    "Considere a função:\n",
    "\n",
    "\\begin{equation}f(x)=\\frac1x\\end{equation}"
   ]
  },
  {
   "cell_type": "code",
   "execution_count": 77,
   "metadata": {},
   "outputs": [
    {
     "data": {
      "text/plain": [
       "oo"
      ]
     },
     "execution_count": 77,
     "metadata": {},
     "output_type": "execute_result"
    }
   ],
   "source": [
    "limit(1/x, x, 0, dir='+')"
   ]
  },
  {
   "cell_type": "code",
   "execution_count": 78,
   "metadata": {},
   "outputs": [
    {
     "data": {
      "text/plain": [
       "-oo"
      ]
     },
     "execution_count": 78,
     "metadata": {},
     "output_type": "execute_result"
    }
   ],
   "source": [
    "limit(1/x, x, 0, dir='-')"
   ]
  },
  {
   "cell_type": "code",
   "execution_count": 79,
   "metadata": {},
   "outputs": [
    {
     "data": {
      "text/plain": [
       "0"
      ]
     },
     "execution_count": 79,
     "metadata": {},
     "output_type": "execute_result"
    }
   ],
   "source": [
    "limit(1/x, x, oo)"
   ]
  },
  {
   "cell_type": "markdown",
   "metadata": {},
   "source": [
    "A função derivada, denotada normalmente por: \\begin{equation}f'(x) , \\frac{{d}}{{dx}}f(x) , \\frac{{df}}{{dx}} , \\frac{{dy}}{{dx}} \\end{equation}\n",
    "\n",
    "A derivada descreve a taxa de variação de uma função $f(x)$.\n",
    "\n",
    "O método **diff** do SymPy computa a derivada de uma dada expressão."
   ]
  },
  {
   "cell_type": "code",
   "execution_count": 114,
   "metadata": {},
   "outputs": [
    {
     "data": {
      "text/plain": [
       "3*x**2"
      ]
     },
     "execution_count": 114,
     "metadata": {},
     "output_type": "execute_result"
    }
   ],
   "source": [
    "diff(x**3, x)"
   ]
  },
  {
   "cell_type": "markdown",
   "metadata": {},
   "source": [
    "O método **diff** está ciente da **Regra do produto:**\n",
    "\n",
    "\n",
    "\\begin{equation}[f(x)g(x)]' = f'(x)g(x) + f(x)g'(x)\\end{equation}"
   ]
  },
  {
   "cell_type": "code",
   "execution_count": 118,
   "metadata": {},
   "outputs": [
    {
     "data": {
      "text/plain": [
       "x**2*cos(x) + 2*x*sin(x)"
      ]
     },
     "execution_count": 118,
     "metadata": {},
     "output_type": "execute_result"
    }
   ],
   "source": [
    "diff(x**2*sin(x), x)"
   ]
  },
  {
   "cell_type": "markdown",
   "metadata": {},
   "source": [
    "**Regra da cadeia:**\n",
    "\n",
    "\\begin{equation}f(g(x))' = f'(g(x))g'(x)\\end{equation}"
   ]
  },
  {
   "cell_type": "code",
   "execution_count": 119,
   "metadata": {},
   "outputs": [
    {
     "data": {
      "text/plain": [
       "2*x*cos(x**2)"
      ]
     },
     "execution_count": 119,
     "metadata": {},
     "output_type": "execute_result"
    }
   ],
   "source": [
    "diff(sin(x**2), x)"
   ]
  },
  {
   "cell_type": "markdown",
   "metadata": {},
   "source": [
    "e, por fim, a **Regra do quociente:**\n",
    "\n",
    "\\begin{equation}\\left(\\frac{{f(x)}}{{g(x)}}\\right)' = \\frac{{f'(x)g(x) - f(x)g'(x)}}{{g(x)²}}\\end{equation}"
   ]
  },
  {
   "cell_type": "code",
   "execution_count": 120,
   "metadata": {},
   "outputs": [
    {
     "data": {
      "text/plain": [
       "-x**2*cos(x)/sin(x)**2 + 2*x/sin(x)"
      ]
     },
     "execution_count": 120,
     "metadata": {},
     "output_type": "execute_result"
    }
   ],
   "source": [
    "diff(x**2/sin(x), x)"
   ]
  },
  {
   "cell_type": "markdown",
   "metadata": {},
   "source": [
    "Uma equação diferencial é uma equação que relaciona alguma função desconhecida $f(x)$ com sua derivada. Como exemplo vamos considerar $f'(x) = f(x)$ ou a expressão equivalente $f(x) - f'(x) = 0$\n",
    "\n",
    "Para resolvermos esse problema aplicaremos o método **dsolve**"
   ]
  },
  {
   "cell_type": "code",
   "execution_count": 121,
   "metadata": {},
   "outputs": [
    {
     "data": {
      "text/plain": [
       "Eq(f(x), C1*exp(x))"
      ]
     },
     "execution_count": 121,
     "metadata": {},
     "output_type": "execute_result"
    }
   ],
   "source": [
    "z = symbols('z')\n",
    "f = symbols('f', cls=Function)\n",
    "dsolve(f(x) - diff(f(x),x), f(x))"
   ]
  },
  {
   "cell_type": "markdown",
   "metadata": {},
   "source": [
    "A integral de uma função $f(x)$ corresponde à computação da área abaixo do gráfico de $f(x)$. \n",
    "\n",
    "A área abaixo de $f(x)$ entre os pontos $x = a$ e $x = b$ é denotada como:\n",
    "\n",
    "\\begin{equation}A(a,b) = \\int_{a}^{b} f(x)dx\\end{equation}"
   ]
  },
  {
   "cell_type": "markdown",
   "metadata": {},
   "source": [
    "A função integral $F$ corresponde ao cálculo da área como função do limite superior da integração:\n",
    "\n",
    "\\begin{equation}F(c) = \\int_{0}^{c} f(x)dx\\end{equation}"
   ]
  },
  {
   "cell_type": "markdown",
   "metadata": {},
   "source": [
    "A área debaixo $f(x)$ entre $x = a$ e $x = b$ é dada:\n",
    "\n",
    "\\begin{equation}A(a,b) = \\int_{a}^{b} f(x)dx = F(b) - F(a)\\end{equation}"
   ]
  },
  {
   "cell_type": "markdown",
   "metadata": {},
   "source": [
    "Em SymPy nós usamos **integrate(f, x)** para obter a função integral $F(x)$ de qualquer dada função $f(x)$"
   ]
  },
  {
   "cell_type": "code",
   "execution_count": 122,
   "metadata": {},
   "outputs": [
    {
     "data": {
      "text/plain": [
       "x**4/4"
      ]
     },
     "execution_count": 122,
     "metadata": {},
     "output_type": "execute_result"
    }
   ],
   "source": [
    "integrate(x**3, x)"
   ]
  },
  {
   "cell_type": "code",
   "execution_count": 123,
   "metadata": {},
   "outputs": [
    {
     "data": {
      "text/plain": [
       "-cos(x)"
      ]
     },
     "execution_count": 123,
     "metadata": {},
     "output_type": "execute_result"
    }
   ],
   "source": [
    "integrate(sin(x), x)"
   ]
  },
  {
   "cell_type": "code",
   "execution_count": 124,
   "metadata": {},
   "outputs": [
    {
     "data": {
      "text/plain": [
       "x*log(x) - x"
      ]
     },
     "execution_count": 124,
     "metadata": {},
     "output_type": "execute_result"
    }
   ],
   "source": [
    "integrate(ln(x), x)"
   ]
  },
  {
   "cell_type": "markdown",
   "metadata": {},
   "source": [
    "Isso é conhecido como integral indefinida, uma vez que não foi especificado o limite da integração\n",
    "\n",
    "Em contraste, uma integral definida computa a área debaixo de $f(x)$ entre $x = a$ e $x = b\\$"
   ]
  },
  {
   "cell_type": "code",
   "execution_count": 125,
   "metadata": {},
   "outputs": [
    {
     "data": {
      "text/plain": [
       "1/4"
      ]
     },
     "execution_count": 125,
     "metadata": {},
     "output_type": "execute_result"
    }
   ],
   "source": [
    "integrate(x**3, (x, 0, 1))"
   ]
  },
  {
   "cell_type": "markdown",
   "metadata": {},
   "source": [
    "Nós podemos obter a mesma área primeiro calculando a integral indefinida\n",
    "\n",
    "\\begin{equation}F(c) = \\int_{0}^{c} f(x)dx\\end{equation}\n",
    "\n",
    "e então usar\n",
    "\n",
    "\\begin{equation}A(a,b) = \\int_{a}^{b} f(x)dx = F(b) - F(a)\\end{equation}"
   ]
  },
  {
   "cell_type": "code",
   "execution_count": 127,
   "metadata": {},
   "outputs": [
    {
     "data": {
      "text/plain": [
       "1/4"
      ]
     },
     "execution_count": 127,
     "metadata": {},
     "output_type": "execute_result"
    }
   ],
   "source": [
    "F = integrate(x**3, x)\n",
    "F.subs({x: 1}) - F.subs({x: 0})"
   ]
  },
  {
   "cell_type": "markdown",
   "metadata": {},
   "source": [
    "A integral é a operação inversa da derivada. Se você executar a operação integral seguidamente da operação derivada em uma função, você obterá a mesma função:\n",
    "\n",
    "\\begin{equation}\\left(\\frac{{d}}{{dx}} \\circ \\int_ .dx \\right)f(x) \\equiv \\frac{{d}}{{dx}} \\int_{c}^{x} f(u)du \\equiv f(x)\\end{equation}"
   ]
  },
  {
   "cell_type": "code",
   "execution_count": 129,
   "metadata": {},
   "outputs": [
    {
     "data": {
      "text/plain": [
       "x**3/3"
      ]
     },
     "execution_count": 129,
     "metadata": {},
     "output_type": "execute_result"
    }
   ],
   "source": [
    "f = x**2\n",
    "F = integrate(f,x)\n",
    "F"
   ]
  },
  {
   "cell_type": "code",
   "execution_count": 130,
   "metadata": {},
   "outputs": [
    {
     "data": {
      "text/plain": [
       "x**2"
      ]
     },
     "execution_count": 130,
     "metadata": {},
     "output_type": "execute_result"
    }
   ],
   "source": [
    "diff(F,x)"
   ]
  },
  {
   "cell_type": "markdown",
   "metadata": {},
   "source": [
    "Alternativamente, se computarmos a derivada de uma função seguida de sua integral nós iremos obter a função original $f(x)$ e mais uma constante:\n",
    "\n",
    "\\begin{equation}\\left(  \\int_ .dx \\circ \\frac{{d}}{{dx}} \\right)f(x) \\equiv \\int_{c}^{x} f'(u)du = f(x) + C\\end{equation}"
   ]
  },
  {
   "cell_type": "code",
   "execution_count": 131,
   "metadata": {},
   "outputs": [
    {
     "data": {
      "text/plain": [
       "2*x"
      ]
     },
     "execution_count": 131,
     "metadata": {},
     "output_type": "execute_result"
    }
   ],
   "source": [
    "f = x**2\n",
    "df = diff(f, x)\n",
    "df"
   ]
  },
  {
   "cell_type": "code",
   "execution_count": 132,
   "metadata": {},
   "outputs": [
    {
     "data": {
      "text/plain": [
       "x**2"
      ]
     },
     "execution_count": 132,
     "metadata": {},
     "output_type": "execute_result"
    }
   ],
   "source": [
    "integrate(df, x)"
   ]
  },
  {
   "cell_type": "markdown",
   "metadata": {},
   "source": [
    "O Teorema Fundamental do Cálculo é importante porque ele nos diz como resolver equações diferenciais. Se nós tivermos que resolver para $f(x)$ a equação diferencial\n",
    "\n",
    "\\begin{equation}\\frac{{d}}{{dx}}f(x) = g(x)\\end{equation}\n",
    "\n",
    "Nós podemos obter a integral em ambos os lados da equação para obtermos a resposta\n",
    "\n",
    "\\begin{equation}f(x) = \\int_ . g(x)dx + C\\end{equation}"
   ]
  },
  {
   "cell_type": "markdown",
   "metadata": {},
   "source": [
    "Sequências são funções que recebem inteiros (números inteiros) como input ao invés de inputs contínuos (números reais). Uma sequência é denotada como $a_n$ para diferenciar da notação da função $a(n)$.\n",
    "\n",
    "Nós definimos uma sequência especificando uma expressão para seu $n$ termo:"
   ]
  },
  {
   "cell_type": "code",
   "execution_count": 138,
   "metadata": {},
   "outputs": [],
   "source": [
    "a_n = 1/n\n",
    "b_n = 1/factorial(n)"
   ]
  },
  {
   "cell_type": "markdown",
   "metadata": {},
   "source": [
    "Usando as **compreensões de listas em Python**, nós podemos gerar a sequência para alguns gamas de índices:"
   ]
  },
  {
   "cell_type": "code",
   "execution_count": 140,
   "metadata": {},
   "outputs": [
    {
     "data": {
      "text/plain": [
       "[zoo, 1, 1/2, 1/3, 1/4, 1/5, 1/6, 1/7]"
      ]
     },
     "execution_count": 140,
     "metadata": {},
     "output_type": "execute_result"
    }
   ],
   "source": [
    "[ a_n.subs ({ n : i }) for i in range (0 , 8)]"
   ]
  },
  {
   "cell_type": "code",
   "execution_count": 142,
   "metadata": {},
   "outputs": [
    {
     "data": {
      "text/plain": [
       "[1, 1, 1/2, 1/6, 1/24, 1/120, 1/720, 1/5040]"
      ]
     },
     "execution_count": 142,
     "metadata": {},
     "output_type": "execute_result"
    }
   ],
   "source": [
    "[ b_n.subs ({ n : i }) for i in range (0 , 8)]"
   ]
  },
  {
   "cell_type": "markdown",
   "metadata": {},
   "source": [
    "Ambos $a_n = \\frac{{1}}{{n}}$ e $b_n = \\frac{{1}}{{n!}}$\n",
    "\n",
    "Convergem para 0 como: $n \\rightarrow \\infty$"
   ]
  },
  {
   "cell_type": "code",
   "execution_count": 143,
   "metadata": {},
   "outputs": [
    {
     "data": {
      "text/plain": [
       "0"
      ]
     },
     "execution_count": 143,
     "metadata": {},
     "output_type": "execute_result"
    }
   ],
   "source": [
    "limit(a_n, n, oo)"
   ]
  },
  {
   "cell_type": "code",
   "execution_count": 144,
   "metadata": {},
   "outputs": [
    {
     "data": {
      "text/plain": [
       "0"
      ]
     },
     "execution_count": 144,
     "metadata": {},
     "output_type": "execute_result"
    }
   ],
   "source": [
    "limit(b_n, n, oo)"
   ]
  },
  {
   "cell_type": "markdown",
   "metadata": {},
   "source": [
    "Vamos supor que nos é dado uma sequência $a_n$ e nós desejamos computar a soma de todos os valores na sequência\n",
    "\n",
    "\\begin{equation}\\sum_{n}^{\\infty} = a_n\\end{equation}\n",
    "\n",
    "Séries são somas de sequências. Somando os valores da sequência $a_n : \\mathbb{N} \\rightarrow \\mathbb{R}$ é análogo a obter a integral de uma função $f : \\mathbb{R} \\rightarrow \\mathbb{R}$\n",
    "\n",
    "O método análogo para integrar para séries é chamado **soma**:"
   ]
  },
  {
   "cell_type": "code",
   "execution_count": 145,
   "metadata": {},
   "outputs": [],
   "source": [
    "a_n = 1/n"
   ]
  },
  {
   "cell_type": "code",
   "execution_count": 146,
   "metadata": {},
   "outputs": [],
   "source": [
    "b_n = 1/factorial(n)"
   ]
  },
  {
   "cell_type": "code",
   "execution_count": 147,
   "metadata": {},
   "outputs": [
    {
     "data": {
      "text/plain": [
       "oo"
      ]
     },
     "execution_count": 147,
     "metadata": {},
     "output_type": "execute_result"
    }
   ],
   "source": [
    "summation(a_n, [n, 1, oo])"
   ]
  },
  {
   "cell_type": "code",
   "execution_count": 148,
   "metadata": {},
   "outputs": [
    {
     "data": {
      "text/plain": [
       "E"
      ]
     },
     "execution_count": 148,
     "metadata": {},
     "output_type": "execute_result"
    }
   ],
   "source": [
    "summation(b_n, [n, 0, oo])"
   ]
  },
  {
   "cell_type": "markdown",
   "metadata": {},
   "source": [
    "O coeficiente na séries de potência de uma função depende no valor de derivadas de ordem maior da função. A equação para o termo n na série de Taylor de $f(x)$ expandida em $x = c$ é: \n",
    "\n",
    "\\begin{equation}a_n(x) = \\frac{{f^n(c)}}{{n!}}(x - c)^n\\end{equation}\n",
    "\n",
    "Onde $f^n(x)$ é o valor da derivada $n$ de $f(x)$ avaliada em $x = c$.\n",
    "Uma expansão de série de Taylor em $x = 0$ é chamada de série de Maclaurin\n",
    "Não apenas nós podemos usar séries para aproximarmos números, nós podemos utilizar elas para aproximar funções!\n",
    "Uma série de potência é uma série no qual os termos contém diferentes potências da variável $x$. Por exemplo, a série de potência da função \n",
    "\n",
    "\\begin{equation}exp(x) = e^x\\end{equation}\n",
    "\n",
    "\\begin{equation}exp(x) \\equiv 1 + x + \\frac{{x^2}}{{2}} + \\frac{{x^3}}{{3!}} + \\frac{{x^4}}{{4!}} + \\frac{{x^5}}{{5!}} + ... = \\sum_{n=0}^{\\infty} \\frac{{x^n}}{{n!}} \\end{equation}"
   ]
  },
  {
   "cell_type": "code",
   "execution_count": 167,
   "metadata": {},
   "outputs": [],
   "source": [
    "exp_xn = x**n/factorial(n)"
   ]
  },
  {
   "cell_type": "code",
   "execution_count": 171,
   "metadata": {},
   "outputs": [],
   "source": [
    "summation = exp_xn.subs({x: 5} , [n , 0 , oo ]).evalf()"
   ]
  },
  {
   "cell_type": "markdown",
   "metadata": {},
   "source": [
    "Em SymPy as séries de função nos possibilitam uma forma fácil de obter séries de qualquer função. Chamando series(expr, var, ar, nmax) irá calcular a expansão da série da expressão próxima a var=at à potência de nmax."
   ]
  },
  {
   "cell_type": "code",
   "execution_count": 172,
   "metadata": {},
   "outputs": [
    {
     "data": {
      "text/plain": [
       "x - x**3/6 + x**5/120 - x**7/5040 + O(x**8)"
      ]
     },
     "execution_count": 172,
     "metadata": {},
     "output_type": "execute_result"
    }
   ],
   "source": [
    "series(sin(x), x, 0, 8)"
   ]
  },
  {
   "cell_type": "code",
   "execution_count": 173,
   "metadata": {},
   "outputs": [
    {
     "data": {
      "text/plain": [
       "1 - x**2/2 + x**4/24 - x**6/720 + O(x**8)"
      ]
     },
     "execution_count": 173,
     "metadata": {},
     "output_type": "execute_result"
    }
   ],
   "source": [
    "series(cos(x), x, 0, 8)"
   ]
  },
  {
   "cell_type": "code",
   "execution_count": 174,
   "metadata": {},
   "outputs": [
    {
     "data": {
      "text/plain": [
       "x + x**3/6 + x**5/120 + x**7/5040 + O(x**8)"
      ]
     },
     "execution_count": 174,
     "metadata": {},
     "output_type": "execute_result"
    }
   ],
   "source": [
    "series(sinh(x), x, 0, 8)"
   ]
  },
  {
   "cell_type": "code",
   "execution_count": 175,
   "metadata": {},
   "outputs": [
    {
     "data": {
      "text/plain": [
       "1 + x**2/2 + x**4/24 + x**6/720 + O(x**8)"
      ]
     },
     "execution_count": 175,
     "metadata": {},
     "output_type": "execute_result"
    }
   ],
   "source": [
    "series(cosh(x), x, 0, 8)"
   ]
  },
  {
   "cell_type": "markdown",
   "metadata": {},
   "source": [
    "Se uma função não estiver definida em $x = 0$, nós podemos expandir ela em um diferente valor de $x$. Por exemplo, a série de potência de $ln(x)$ expandida em $x = 1$ é:"
   ]
  },
  {
   "cell_type": "code",
   "execution_count": 176,
   "metadata": {},
   "outputs": [
    {
     "data": {
      "text/plain": [
       "-1 - (x - 1)**2/2 + (x - 1)**3/3 - (x - 1)**4/4 + (x - 1)**5/5 + x + O((x - 1)**6, (x, 1))"
      ]
     },
     "execution_count": 176,
     "metadata": {},
     "output_type": "execute_result"
    }
   ],
   "source": [
    "series(ln(x), x, 1, 6)"
   ]
  },
  {
   "cell_type": "markdown",
   "metadata": {},
   "source": [
    "Para eliminarmos os termos $(x - 1)$ e obtermos um resultado familiar para a série de Taylor nós podemos utilizar a seguinte técnica. Em vez de expandir $ln(x)$ em $x = 1$, nós obteremos uma expressão mais legível expandindo $ln(x + 1)$ em $x = 0$."
   ]
  },
  {
   "cell_type": "code",
   "execution_count": 177,
   "metadata": {},
   "outputs": [
    {
     "data": {
      "text/plain": [
       "x - x**2/2 + x**3/3 - x**4/4 + x**5/5 + O(x**6)"
      ]
     },
     "execution_count": 177,
     "metadata": {},
     "output_type": "execute_result"
    }
   ],
   "source": [
    "series(ln(x+1), x, 0, 6)"
   ]
  }
 ],
 "metadata": {
  "kernelspec": {
   "display_name": "Python 3",
   "language": "python",
   "name": "python3"
  },
  "language_info": {
   "codemirror_mode": {
    "name": "ipython",
    "version": 3
   },
   "file_extension": ".py",
   "mimetype": "text/x-python",
   "name": "python",
   "nbconvert_exporter": "python",
   "pygments_lexer": "ipython3",
   "version": "3.7.1"
  }
 },
 "nbformat": 4,
 "nbformat_minor": 2
}
